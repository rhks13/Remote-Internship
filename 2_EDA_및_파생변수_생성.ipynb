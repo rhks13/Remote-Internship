{
  "nbformat": 4,
  "nbformat_minor": 0,
  "metadata": {
    "colab": {
      "provenance": [],
      "toc_visible": true,
      "include_colab_link": true
    },
    "kernelspec": {
      "name": "python3",
      "display_name": "Python 3"
    },
    "language_info": {
      "name": "python"
    }
  },
  "cells": [
    {
      "cell_type": "markdown",
      "metadata": {
        "id": "view-in-github",
        "colab_type": "text"
      },
      "source": [
        "<a href=\"https://colab.research.google.com/github/rhks13/Remote-Internship/blob/main/2_EDA_%EB%B0%8F_%ED%8C%8C%EC%83%9D%EB%B3%80%EC%88%98_%EC%83%9D%EC%84%B1.ipynb\" target=\"_parent\"><img src=\"https://colab.research.google.com/assets/colab-badge.svg\" alt=\"Open In Colab\"/></a>"
      ]
    },
    {
      "cell_type": "code",
      "execution_count": null,
      "metadata": {
        "colab": {
          "base_uri": "https://localhost:8080/"
        },
        "id": "wG2o9bryMgBw",
        "outputId": "1d485d45-bf21-4abe-a136-6bff316a44f2"
      },
      "outputs": [
        {
          "output_type": "stream",
          "name": "stdout",
          "text": [
            "Mounted at /content/drive\n"
          ]
        }
      ],
      "source": [
        "# 드라이브 마운트\n",
        "from google.colab import drive\n",
        "drive.mount('/content/drive')"
      ]
    },
    {
      "cell_type": "code",
      "source": [
        "# 이 친구를 한번 돌리고 런타임 재실행까지 시켜주어야 \n",
        "# 그래프에서 한글이 이쁘게 보입니다.\n",
        "!sudo apt-get install -y fonts-nanum\n",
        "!sudo fc-cache -fv\n",
        "!rm ~/.cache/matplotlib -rf\n",
        "\n",
        "import matplotlib.pyplot as plt\n",
        "\n",
        "plt.rc('font', family='NanumBarunGothic') "
      ],
      "metadata": {
        "colab": {
          "base_uri": "https://localhost:8080/"
        },
        "id": "yQkNEN__QKFt",
        "outputId": "9d295737-9c47-41d9-ff32-604ee5cfcda6"
      },
      "execution_count": null,
      "outputs": [
        {
          "output_type": "stream",
          "name": "stdout",
          "text": [
            "Reading package lists... Done\n",
            "Building dependency tree       \n",
            "Reading state information... Done\n",
            "The following package was automatically installed and is no longer required:\n",
            "  libnvidia-common-460\n",
            "Use 'sudo apt autoremove' to remove it.\n",
            "The following NEW packages will be installed:\n",
            "  fonts-nanum\n",
            "0 upgraded, 1 newly installed, 0 to remove and 5 not upgraded.\n",
            "Need to get 9,604 kB of archives.\n",
            "After this operation, 29.5 MB of additional disk space will be used.\n",
            "Get:1 http://archive.ubuntu.com/ubuntu bionic/universe amd64 fonts-nanum all 20170925-1 [9,604 kB]\n",
            "Fetched 9,604 kB in 1s (6,575 kB/s)\n",
            "debconf: unable to initialize frontend: Dialog\n",
            "debconf: (No usable dialog-like program is installed, so the dialog based frontend cannot be used. at /usr/share/perl5/Debconf/FrontEnd/Dialog.pm line 76, <> line 1.)\n",
            "debconf: falling back to frontend: Readline\n",
            "debconf: unable to initialize frontend: Readline\n",
            "debconf: (This frontend requires a controlling tty.)\n",
            "debconf: falling back to frontend: Teletype\n",
            "dpkg-preconfigure: unable to re-open stdin: \n",
            "Selecting previously unselected package fonts-nanum.\n",
            "(Reading database ... 123991 files and directories currently installed.)\n",
            "Preparing to unpack .../fonts-nanum_20170925-1_all.deb ...\n",
            "Unpacking fonts-nanum (20170925-1) ...\n",
            "Setting up fonts-nanum (20170925-1) ...\n",
            "Processing triggers for fontconfig (2.12.6-0ubuntu2) ...\n",
            "/usr/share/fonts: caching, new cache contents: 0 fonts, 1 dirs\n",
            "/usr/share/fonts/truetype: caching, new cache contents: 0 fonts, 3 dirs\n",
            "/usr/share/fonts/truetype/humor-sans: caching, new cache contents: 1 fonts, 0 dirs\n",
            "/usr/share/fonts/truetype/liberation: caching, new cache contents: 16 fonts, 0 dirs\n",
            "/usr/share/fonts/truetype/nanum: caching, new cache contents: 10 fonts, 0 dirs\n",
            "/usr/local/share/fonts: caching, new cache contents: 0 fonts, 0 dirs\n",
            "/root/.local/share/fonts: skipping, no such directory\n",
            "/root/.fonts: skipping, no such directory\n",
            "/var/cache/fontconfig: cleaning cache directory\n",
            "/root/.cache/fontconfig: not cleaning non-existent cache directory\n",
            "/root/.fontconfig: not cleaning non-existent cache directory\n",
            "fc-cache: succeeded\n"
          ]
        }
      ]
    },
    {
      "cell_type": "code",
      "source": [
        "import numpy as np\n",
        "import pandas as pd\n",
        "import matplotlib.pyplot as plt\n",
        "import seaborn as sns\n",
        "import pickle as pickle\n",
        "import datetime"
      ],
      "metadata": {
        "id": "FkaP2U9MQL03"
      },
      "execution_count": null,
      "outputs": []
    },
    {
      "cell_type": "code",
      "source": [
        "df = pd.read_csv('/content/drive/MyDrive/cj E2-3/data/병합데이터.csv', index_col=0)"
      ],
      "metadata": {
        "id": "W2WK1Vf0QRzV"
      },
      "execution_count": null,
      "outputs": []
    },
    {
      "cell_type": "markdown",
      "source": [
        "# **결측치 파악**"
      ],
      "metadata": {
        "id": "PCP0o4DXQbmt"
      }
    },
    {
      "cell_type": "code",
      "source": [
        "# 전체적인 결측치를 파악해볼까요\n",
        "df.isnull().sum()\n",
        "\n",
        "#기온, 시정, 지면온도에 하나씩 존재합니다. 이정도면 결측치를 삭제한대도 문제가 없을 것 같아요"
      ],
      "metadata": {
        "colab": {
          "base_uri": "https://localhost:8080/"
        },
        "id": "OU5StXPiQdyB",
        "outputId": "ead65c36-9f33-48e0-97c5-b6f66398c617"
      },
      "execution_count": null,
      "outputs": [
        {
          "output_type": "execute_result",
          "data": {
            "text/plain": [
              "일시            0\n",
              "요일            0\n",
              "사고내용          0\n",
              "사고유형          0\n",
              "노면상태          0\n",
              "도로형태          0\n",
              "가해운전자 차종      0\n",
              "가해운전자 성별      0\n",
              "가해운전자 연령      0\n",
              "가해운전자 상해정도    0\n",
              "시             0\n",
              "읍면동           0\n",
              "기온(°C)        1\n",
              "풍속(m/s)       0\n",
              "습도(%)         0\n",
              "현지기압(hPa)     0\n",
              "시정(10m)       1\n",
              "지면온도(°C)      1\n",
              "비             0\n",
              "눈             0\n",
              "dtype: int64"
            ]
          },
          "metadata": {},
          "execution_count": 5
        }
      ]
    },
    {
      "cell_type": "code",
      "source": [
        "# 결측치를 제거해줍니다\n",
        "df_one = df.dropna() # 데이터.dropna() => 결측치가 존재하는 행 삭제"
      ],
      "metadata": {
        "id": "uFkk6B1IQdv1"
      },
      "execution_count": null,
      "outputs": []
    },
    {
      "cell_type": "code",
      "source": [
        "df_one.info()"
      ],
      "metadata": {
        "colab": {
          "base_uri": "https://localhost:8080/"
        },
        "id": "7lUxgrC9QduB",
        "outputId": "306ff9d4-a982-4a66-cfb8-6e002bf733fc"
      },
      "execution_count": null,
      "outputs": [
        {
          "output_type": "stream",
          "name": "stdout",
          "text": [
            "<class 'pandas.core.frame.DataFrame'>\n",
            "Int64Index: 2735 entries, 0 to 2737\n",
            "Data columns (total 20 columns):\n",
            " #   Column      Non-Null Count  Dtype  \n",
            "---  ------      --------------  -----  \n",
            " 0   일시          2735 non-null   object \n",
            " 1   요일          2735 non-null   object \n",
            " 2   사고내용        2735 non-null   int64  \n",
            " 3   사고유형        2735 non-null   object \n",
            " 4   노면상태        2735 non-null   object \n",
            " 5   도로형태        2735 non-null   object \n",
            " 6   가해운전자 차종    2735 non-null   object \n",
            " 7   가해운전자 성별    2735 non-null   object \n",
            " 8   가해운전자 연령    2735 non-null   object \n",
            " 9   가해운전자 상해정도  2735 non-null   object \n",
            " 10  시           2735 non-null   object \n",
            " 11  읍면동         2735 non-null   object \n",
            " 12  기온(°C)      2735 non-null   float64\n",
            " 13  풍속(m/s)     2735 non-null   float64\n",
            " 14  습도(%)       2735 non-null   float64\n",
            " 15  현지기압(hPa)   2735 non-null   float64\n",
            " 16  시정(10m)     2735 non-null   float64\n",
            " 17  지면온도(°C)    2735 non-null   float64\n",
            " 18  비           2735 non-null   int64  \n",
            " 19  눈           2735 non-null   int64  \n",
            "dtypes: float64(6), int64(3), object(11)\n",
            "memory usage: 448.7+ KB\n"
          ]
        }
      ]
    },
    {
      "cell_type": "markdown",
      "source": [
        "# **변수별 특성 파악**"
      ],
      "metadata": {
        "id": "Hh1G5M91QtdU"
      }
    },
    {
      "cell_type": "markdown",
      "source": [
        "### **요일**"
      ],
      "metadata": {
        "id": "s-W0E0RqVH6H"
      }
    },
    {
      "cell_type": "code",
      "source": [
        "df_one['요일'].value_counts().plot(kind='bar')"
      ],
      "metadata": {
        "colab": {
          "base_uri": "https://localhost:8080/",
          "height": 883
        },
        "id": "-H6QrlhWQdpw",
        "outputId": "d830c59f-b0c5-4924-fdf2-26220870bac5"
      },
      "execution_count": null,
      "outputs": [
        {
          "output_type": "execute_result",
          "data": {
            "text/plain": [
              "<matplotlib.axes._subplots.AxesSubplot at 0x7f9a89443f50>"
            ]
          },
          "metadata": {},
          "execution_count": 8
        },
        {
          "output_type": "stream",
          "name": "stderr",
          "text": [
            "WARNING:matplotlib.font_manager:findfont: Font family ['NanumBarunGothic'] not found. Falling back to DejaVu Sans.\n",
            "/usr/local/lib/python3.7/dist-packages/matplotlib/backends/backend_agg.py:214: RuntimeWarning: Glyph 47785 missing from current font.\n",
            "  font.set_text(s, 0.0, flags=flags)\n",
            "/usr/local/lib/python3.7/dist-packages/matplotlib/backends/backend_agg.py:214: RuntimeWarning: Glyph 50836 missing from current font.\n",
            "  font.set_text(s, 0.0, flags=flags)\n",
            "/usr/local/lib/python3.7/dist-packages/matplotlib/backends/backend_agg.py:214: RuntimeWarning: Glyph 51068 missing from current font.\n",
            "  font.set_text(s, 0.0, flags=flags)\n",
            "/usr/local/lib/python3.7/dist-packages/matplotlib/backends/backend_agg.py:214: RuntimeWarning: Glyph 49688 missing from current font.\n",
            "  font.set_text(s, 0.0, flags=flags)\n",
            "/usr/local/lib/python3.7/dist-packages/matplotlib/backends/backend_agg.py:214: RuntimeWarning: Glyph 54868 missing from current font.\n",
            "  font.set_text(s, 0.0, flags=flags)\n",
            "/usr/local/lib/python3.7/dist-packages/matplotlib/backends/backend_agg.py:214: RuntimeWarning: Glyph 50900 missing from current font.\n",
            "  font.set_text(s, 0.0, flags=flags)\n",
            "/usr/local/lib/python3.7/dist-packages/matplotlib/backends/backend_agg.py:214: RuntimeWarning: Glyph 53664 missing from current font.\n",
            "  font.set_text(s, 0.0, flags=flags)\n",
            "/usr/local/lib/python3.7/dist-packages/matplotlib/backends/backend_agg.py:214: RuntimeWarning: Glyph 44552 missing from current font.\n",
            "  font.set_text(s, 0.0, flags=flags)\n",
            "/usr/local/lib/python3.7/dist-packages/matplotlib/backends/backend_agg.py:183: RuntimeWarning: Glyph 47785 missing from current font.\n",
            "  font.set_text(s, 0, flags=flags)\n",
            "/usr/local/lib/python3.7/dist-packages/matplotlib/backends/backend_agg.py:183: RuntimeWarning: Glyph 50836 missing from current font.\n",
            "  font.set_text(s, 0, flags=flags)\n",
            "/usr/local/lib/python3.7/dist-packages/matplotlib/backends/backend_agg.py:183: RuntimeWarning: Glyph 51068 missing from current font.\n",
            "  font.set_text(s, 0, flags=flags)\n",
            "/usr/local/lib/python3.7/dist-packages/matplotlib/backends/backend_agg.py:183: RuntimeWarning: Glyph 49688 missing from current font.\n",
            "  font.set_text(s, 0, flags=flags)\n",
            "/usr/local/lib/python3.7/dist-packages/matplotlib/backends/backend_agg.py:183: RuntimeWarning: Glyph 54868 missing from current font.\n",
            "  font.set_text(s, 0, flags=flags)\n",
            "/usr/local/lib/python3.7/dist-packages/matplotlib/backends/backend_agg.py:183: RuntimeWarning: Glyph 50900 missing from current font.\n",
            "  font.set_text(s, 0, flags=flags)\n",
            "/usr/local/lib/python3.7/dist-packages/matplotlib/backends/backend_agg.py:183: RuntimeWarning: Glyph 53664 missing from current font.\n",
            "  font.set_text(s, 0, flags=flags)\n",
            "/usr/local/lib/python3.7/dist-packages/matplotlib/backends/backend_agg.py:183: RuntimeWarning: Glyph 44552 missing from current font.\n",
            "  font.set_text(s, 0, flags=flags)\n"
          ]
        },
        {
          "output_type": "display_data",
          "data": {
            "text/plain": [
              "<Figure size 432x288 with 1 Axes>"
            ],
            "image/png": "[encoded data removed]"
          },
          "metadata": {
            "needs_background": "light"
          }
        }
      ]
    },
    {
      "cell_type": "code",
      "source": [
        "\n",
        "df_obj=df_one.groupby(['사고내용','요일']).count()['일시']\n",
        "df_por=df_obj.unstack().T/df_obj.groupby('사고내용').sum()\n",
        "df_por.T.plot.bar(stacked=True, legend='reverse', figsize=(10,7))"
      ],
      "metadata": {
        "colab": {
          "base_uri": "https://localhost:8080/",
          "height": 456
        },
        "id": "nAxMaz-iQdnu",
        "outputId": "68a00649-42d9-422a-83f0-46401a233763"
      },
      "execution_count": null,
      "outputs": [
        {
          "output_type": "execute_result",
          "data": {
            "text/plain": [
              "<matplotlib.axes._subplots.AxesSubplot at 0x7f56a3dab5d0>"
            ]
          },
          "metadata": {},
          "execution_count": 17
        },
        {
          "output_type": "display_data",
          "data": {
            "text/plain": [
              "<Figure size 720x504 with 1 Axes>"
            ],
            "image/png": "[encoded data removed]"
          },
          "metadata": {
            "needs_background": "light"
          }
        }
      ]
    },
    {
      "cell_type": "code",
      "source": [
        " # 단순 요일로 구분했을때는 특징이 드러나지 않아 -> 주말(공휴일)/ 평일로 구분하는 새로운 변수 생성"
      ],
      "metadata": {
        "id": "1AHDFg9pdek3"
      },
      "execution_count": null,
      "outputs": []
    },
    {
      "cell_type": "markdown",
      "source": [
        "### **사고유형**"
      ],
      "metadata": {
        "id": "EWrNsqbGVQBH"
      }
    },
    {
      "cell_type": "code",
      "source": [
        "df_one['사고유형'].value_counts().plot(kind='bar')"
      ],
      "metadata": {
        "colab": {
          "base_uri": "https://localhost:8080/",
          "height": 408
        },
        "id": "QQt40CXfQdi9",
        "outputId": "e6b39f8a-af8c-4bb9-b072-31f1444f78bf"
      },
      "execution_count": null,
      "outputs": [
        {
          "output_type": "execute_result",
          "data": {
            "text/plain": [
              "<matplotlib.axes._subplots.AxesSubplot at 0x7f56a3d37550>"
            ]
          },
          "metadata": {},
          "execution_count": 19
        },
        {
          "output_type": "display_data",
          "data": {
            "text/plain": [
              "<Figure size 432x288 with 1 Axes>"
            ],
            "image/png": "[encoded data removed]"
          },
          "metadata": {
            "needs_background": "light"
          }
        }
      ]
    },
    {
      "cell_type": "code",
      "source": [
        "# 주말(공휴일)/ 평일로 구분하는 새로운 변수 생성\n",
        "# 사고유형 "
      ],
      "metadata": {
        "id": "OHMnH6MGdeQv"
      },
      "execution_count": null,
      "outputs": []
    },
    {
      "cell_type": "code",
      "source": [
        "df_obj=df_one.groupby(['사고내용','사고유형']).count()['일시']\n",
        "df_por=df_obj.unstack().T/df_obj.groupby('사고내용').sum()\n",
        "df_por.T.plot.bar(stacked=True, legend='reverse', figsize=(10,7))\n",
        "\n",
        "# 해석하기에 어려움 => 조정 필요"
      ],
      "metadata": {
        "colab": {
          "base_uri": "https://localhost:8080/",
          "height": 456
        },
        "id": "Em9f9ix6QdPQ",
        "outputId": "d4b245b0-80ba-42f7-c780-d58beda94169"
      },
      "execution_count": null,
      "outputs": [
        {
          "output_type": "execute_result",
          "data": {
            "text/plain": [
              "<matplotlib.axes._subplots.AxesSubplot at 0x7f56a44b3810>"
            ]
          },
          "metadata": {},
          "execution_count": 21
        },
        {
          "output_type": "display_data",
          "data": {
            "text/plain": [
              "<Figure size 720x504 with 1 Axes>"
            ],
            "image/png": "[encoded data removed]"
          },
          "metadata": {
            "needs_background": "light"
          }
        }
      ]
    },
    {
      "cell_type": "code",
      "source": [
        "def spl1(a):\n",
        "  b = a.split(' - ')\n",
        "  return b[0]\n",
        "\n",
        "def spl2(a):\n",
        "  b = a.split(' - ')\n",
        "  return b[1]"
      ],
      "metadata": {
        "id": "QIduki2iVsto"
      },
      "execution_count": null,
      "outputs": []
    },
    {
      "cell_type": "code",
      "source": [
        "df_one['사고유형'].apply(spl1)"
      ],
      "metadata": {
        "colab": {
          "base_uri": "https://localhost:8080/"
        },
        "id": "OVwGmNBYVnKA",
        "outputId": "e08f6944-ed1a-4ecc-df55-6fbff0cdb0e3"
      },
      "execution_count": null,
      "outputs": [
        {
          "output_type": "execute_result",
          "data": {
            "text/plain": [
              "0        차대차\n",
              "1       차대사람\n",
              "2       차량단독\n",
              "3        차대차\n",
              "4       차량단독\n",
              "        ... \n",
              "2733    차대사람\n",
              "2734    차대사람\n",
              "2735     차대차\n",
              "2736     차대차\n",
              "2737     차대차\n",
              "Name: 사고유형, Length: 2735, dtype: object"
            ]
          },
          "metadata": {},
          "execution_count": 23
        }
      ]
    },
    {
      "cell_type": "code",
      "source": [
        "df_temp = df_one.copy()"
      ],
      "metadata": {
        "id": "0X7nclf_VnHf"
      },
      "execution_count": null,
      "outputs": []
    },
    {
      "cell_type": "code",
      "source": [
        "df_temp['유형1'] = df_one['사고유형'].apply(spl1)\n",
        "df_temp['유형2'] = df_one['사고유형'].apply(spl2)"
      ],
      "metadata": {
        "id": "3MEPknlyWH0o"
      },
      "execution_count": null,
      "outputs": []
    },
    {
      "cell_type": "code",
      "source": [
        "df_temp['유형1'].value_counts().plot(kind='bar')\n",
        "df_obj=df_temp.groupby(['사고내용','유형1']).count()['일시']\n",
        "df_por=df_obj.unstack().T/df_obj.groupby('사고내용').sum()\n",
        "df_por.T.plot.bar(stacked=True, legend='reverse', figsize=(10,7))"
      ],
      "metadata": {
        "colab": {
          "base_uri": "https://localhost:8080/",
          "height": 730
        },
        "id": "FxBKTeGfWY-j",
        "outputId": "84164f4d-a696-40f8-e96d-cdb4385b497c"
      },
      "execution_count": null,
      "outputs": [
        {
          "output_type": "execute_result",
          "data": {
            "text/plain": [
              "<matplotlib.axes._subplots.AxesSubplot at 0x7f56a3a2d390>"
            ]
          },
          "metadata": {},
          "execution_count": 26
        },
        {
          "output_type": "display_data",
          "data": {
            "text/plain": [
              "<Figure size 432x288 with 1 Axes>"
            ],
            "image/png": "[encoded data removed]"
          },
          "metadata": {
            "needs_background": "light"
          }
        },
        {
          "output_type": "display_data",
          "data": {
            "text/plain": [
              "<Figure size 720x504 with 1 Axes>"
            ],
            "image/png": "[encoded data removed]"
          },
          "metadata": {
            "needs_background": "light"
          }
        }
      ]
    },
    {
      "cell_type": "code",
      "source": [
        "df_temp['유형2'].value_counts().plot(kind='bar')\n",
        "df_obj=df_temp.groupby(['사고내용','유형2']).count()['일시']\n",
        "df_por=df_obj.unstack().T/df_obj.groupby('사고내용').sum()\n",
        "df_por.T.plot.bar(stacked=True, legend='reverse', figsize=(10,7))"
      ],
      "metadata": {
        "colab": {
          "base_uri": "https://localhost:8080/",
          "height": 783
        },
        "id": "phC28L4YWhtx",
        "outputId": "fb65fbd7-ec29-4c72-9383-00e9ca7d7900"
      },
      "execution_count": null,
      "outputs": [
        {
          "output_type": "execute_result",
          "data": {
            "text/plain": [
              "<matplotlib.axes._subplots.AxesSubplot at 0x7f56a396d650>"
            ]
          },
          "metadata": {},
          "execution_count": 27
        },
        {
          "output_type": "display_data",
          "data": {
            "text/plain": [
              "<Figure size 432x288 with 1 Axes>"
            ],
            "image/png": "[encoded data removed]"
          },
          "metadata": {
            "needs_background": "light"
          }
        },
        {
          "output_type": "display_data",
          "data": {
            "text/plain": [
              "<Figure size 720x504 with 1 Axes>"
            ],
            "image/png": "[encoded data removed]"
          },
          "metadata": {
            "needs_background": "light"
          }
        }
      ]
    },
    {
      "cell_type": "markdown",
      "source": [
        "### **노면상태**"
      ],
      "metadata": {
        "id": "za_OyRjSVYzh"
      }
    },
    {
      "cell_type": "code",
      "source": [
        "df_one['노면상태'].value_counts().plot(kind='bar')"
      ],
      "metadata": {
        "colab": {
          "base_uri": "https://localhost:8080/"
        },
        "id": "tMOdjidxQ23q",
        "outputId": "5dd50bfd-850e-4bd9-d18b-c3c22638c341"
      },
      "execution_count": null,
      "outputs": [
        {
          "output_type": "execute_result",
          "data": {
            "text/plain": [
              "<matplotlib.axes._subplots.AxesSubplot at 0x7f56a38c9510>"
            ]
          },
          "metadata": {},
          "execution_count": 28
        },
        {
          "output_type": "display_data",
          "data": {
            "text/plain": [
              "<Figure size 432x288 with 1 Axes>"
            ],
            "image/png": "[encoded data removed]"
          },
          "metadata": {
            "needs_background": "light"
          }
        }
      ]
    },
    {
      "cell_type": "code",
      "source": [
        "df_obj=df_one.groupby(['사고내용','노면상태']).count()['일시']\n",
        "df_por=df_obj.unstack().T/df_obj.groupby('사고내용').sum()\n",
        "df_por.T.plot.bar(stacked=True, legend='reverse', figsize=(10,7))"
      ],
      "metadata": {
        "colab": {
          "base_uri": "https://localhost:8080/"
        },
        "id": "X1xRnDOqQ218",
        "outputId": "8c6eb787-a365-4513-ad5e-596152071110"
      },
      "execution_count": null,
      "outputs": [
        {
          "output_type": "execute_result",
          "data": {
            "text/plain": [
              "<matplotlib.axes._subplots.AxesSubplot at 0x7f56a37e6dd0>"
            ]
          },
          "metadata": {},
          "execution_count": 29
        },
        {
          "output_type": "display_data",
          "data": {
            "text/plain": [
              "<Figure size 720x504 with 1 Axes>"
            ],
            "image/png": "[encoded data removed]"
          },
          "metadata": {
            "needs_background": "light"
          }
        }
      ]
    },
    {
      "cell_type": "code",
      "source": [
        "# 비포장이 애초에 거의 존재하지 않아 -> 비포장 데이터 삭제, 하이픈 뒤의 노면상태만 기록"
      ],
      "metadata": {
        "id": "t4kae5izloVT"
      },
      "execution_count": null,
      "outputs": []
    },
    {
      "cell_type": "markdown",
      "source": [
        "### **도로 형태**"
      ],
      "metadata": {
        "id": "Q9qKsI4RcYW7"
      }
    },
    {
      "cell_type": "code",
      "source": [
        "df_one['도로형태'].value_counts().plot(kind='bar')"
      ],
      "metadata": {
        "colab": {
          "base_uri": "https://localhost:8080/"
        },
        "id": "8ItvpRLPQ2z8",
        "outputId": "61165a3c-71b3-4133-a698-e615a6f208e3"
      },
      "execution_count": null,
      "outputs": [
        {
          "output_type": "execute_result",
          "data": {
            "text/plain": [
              "<matplotlib.axes._subplots.AxesSubplot at 0x7f56a4491b10>"
            ]
          },
          "metadata": {},
          "execution_count": 31
        },
        {
          "output_type": "display_data",
          "data": {
            "text/plain": [
              "<Figure size 432x288 with 1 Axes>"
            ],
            "image/png": "[encoded data removed]"
          },
          "metadata": {
            "needs_background": "light"
          }
        }
      ]
    },
    {
      "cell_type": "code",
      "source": [
        "\n",
        "df_obj=df_one.groupby(['사고내용','도로형태']).count()['일시']\n",
        "df_por=df_obj.unstack().T/df_obj.groupby('사고내용').sum()\n",
        "df_por.T.plot.bar(stacked=True, legend='reverse', figsize=(10,7))"
      ],
      "metadata": {
        "colab": {
          "base_uri": "https://localhost:8080/"
        },
        "id": "dmVjG3woQ2x0",
        "outputId": "572b0643-5dd0-4d61-9c8b-e6110824693e"
      },
      "execution_count": null,
      "outputs": [
        {
          "output_type": "execute_result",
          "data": {
            "text/plain": [
              "<matplotlib.axes._subplots.AxesSubplot at 0x7f56a430f9d0>"
            ]
          },
          "metadata": {},
          "execution_count": 32
        },
        {
          "output_type": "display_data",
          "data": {
            "text/plain": [
              "<Figure size 720x504 with 1 Axes>"
            ],
            "image/png": "[encoded data removed]"
          },
          "metadata": {
            "needs_background": "light"
          }
        }
      ]
    },
    {
      "cell_type": "markdown",
      "source": [
        "### **가해운전자 차종**"
      ],
      "metadata": {
        "id": "bDO6UzKDccYJ"
      }
    },
    {
      "cell_type": "code",
      "source": [
        "df_one['가해운전자 차종'].value_counts().plot(kind='bar')\n",
        "df_obj=df_one.groupby(['사고내용','가해운전자 차종']).count()['일시']\n",
        "df_por=df_obj.unstack().T/df_obj.groupby('사고내용').sum()\n",
        "df_por.T.plot.bar(stacked=True, legend='reverse', figsize=(10,7))"
      ],
      "metadata": {
        "colab": {
          "base_uri": "https://localhost:8080/"
        },
        "id": "SqW-WgxXQ2wP",
        "outputId": "b344c121-c9aa-42fb-c771-a8846c11327a"
      },
      "execution_count": null,
      "outputs": [
        {
          "output_type": "execute_result",
          "data": {
            "text/plain": [
              "<matplotlib.axes._subplots.AxesSubplot at 0x7f56a3623290>"
            ]
          },
          "metadata": {},
          "execution_count": 33
        },
        {
          "output_type": "display_data",
          "data": {
            "text/plain": [
              "<Figure size 432x288 with 1 Axes>"
            ],
            "image/png": "[encoded data removed]"
          },
          "metadata": {
            "needs_background": "light"
          }
        },
        {
          "output_type": "display_data",
          "data": {
            "text/plain": [
              "<Figure size 720x504 with 1 Axes>"
            ],
            "image/png": "[encoded data removed]"
          },
          "metadata": {
            "needs_background": "light"
          }
        }
      ]
    },
    {
      "cell_type": "code",
      "source": [
        "df_one['가해운전자 성별'].value_counts().plot(kind='bar')\n",
        "df_obj=df_one.groupby(['사고내용','가해운전자 성별']).count()['일시']\n",
        "df_por=df_obj.unstack().T/df_obj.groupby('사고내용').sum()\n",
        "df_por.T.plot.bar(stacked=True, legend='reverse', figsize=(10,7))"
      ],
      "metadata": {
        "colab": {
          "base_uri": "https://localhost:8080/"
        },
        "id": "Bt44yexuQ2uM",
        "outputId": "c18814ff-ebcc-4f3c-c1de-f48dc9e78c3d"
      },
      "execution_count": null,
      "outputs": [
        {
          "output_type": "execute_result",
          "data": {
            "text/plain": [
              "<matplotlib.axes._subplots.AxesSubplot at 0x7f56a3a8f690>"
            ]
          },
          "metadata": {},
          "execution_count": 34
        },
        {
          "output_type": "display_data",
          "data": {
            "text/plain": [
              "<Figure size 432x288 with 1 Axes>"
            ],
            "image/png": "[encoded data removed]"
          },
          "metadata": {
            "needs_background": "light"
          }
        },
        {
          "output_type": "display_data",
          "data": {
            "text/plain": [
              "<Figure size 720x504 with 1 Axes>"
            ],
            "image/png": "[encoded data removed]"
          },
          "metadata": {
            "needs_background": "light"
          }
        }
      ]
    },
    {
      "cell_type": "markdown",
      "source": [
        "### **가해 운전자 연령**"
      ],
      "metadata": {
        "id": "Qu0X4SV5ce-M"
      }
    },
    {
      "cell_type": "code",
      "source": [
        "df_one['가해운전자 연령'].value_counts().plot(kind='bar')\n",
        "df_obj=df_one.groupby(['사고내용','가해운전자 연령']).count()['일시']\n",
        "df_por=df_obj.unstack().T/df_obj.groupby('사고내용').sum()\n",
        "df_por.T.plot.bar(stacked=True, legend='reverse', figsize=(10,7))\n",
        "plt.title('sub_cluster')"
      ],
      "metadata": {
        "colab": {
          "base_uri": "https://localhost:8080/"
        },
        "id": "ArFNcpBFR8RL",
        "outputId": "61d629a7-9e25-44d5-8751-8563a2fbb293"
      },
      "execution_count": null,
      "outputs": [
        {
          "output_type": "execute_result",
          "data": {
            "text/plain": [
              "Text(0.5, 1.0, 'sub_cluster')"
            ]
          },
          "metadata": {},
          "execution_count": 35
        },
        {
          "output_type": "display_data",
          "data": {
            "text/plain": [
              "<Figure size 432x288 with 1 Axes>"
            ],
            "image/png": "[encoded data removed]"
          },
          "metadata": {
            "needs_background": "light"
          }
        },
        {
          "output_type": "display_data",
          "data": {
            "text/plain": [
              "<Figure size 720x504 with 1 Axes>"
            ],
            "image/png": "[encoded data removed]"
          },
          "metadata": {
            "needs_background": "light"
          }
        }
      ]
    },
    {
      "cell_type": "markdown",
      "source": [
        "### **가해운전자 상해정도**"
      ],
      "metadata": {
        "id": "p49OqlAJclpT"
      }
    },
    {
      "cell_type": "code",
      "source": [
        "df_one['가해운전자 상해정도'].value_counts().plot(kind='bar')\n",
        "df_obj=df_one.groupby(['사고내용','가해운전자 상해정도']).count()['일시']\n",
        "df_por=df_obj.unstack().T/df_obj.groupby('사고내용').sum()\n",
        "df_por.T.plot.bar(stacked=True, legend='reverse', figsize=(10,7))"
      ],
      "metadata": {
        "colab": {
          "base_uri": "https://localhost:8080/"
        },
        "id": "PeFePdwsQ2sH",
        "outputId": "6dffc09d-6777-406d-8757-46d28243d046"
      },
      "execution_count": null,
      "outputs": [
        {
          "output_type": "execute_result",
          "data": {
            "text/plain": [
              "<matplotlib.axes._subplots.AxesSubplot at 0x7f56a3087290>"
            ]
          },
          "metadata": {},
          "execution_count": 36
        },
        {
          "output_type": "display_data",
          "data": {
            "text/plain": [
              "<Figure size 432x288 with 1 Axes>"
            ],
            "image/png": "[encoded data removed]"
          },
          "metadata": {
            "needs_background": "light"
          }
        },
        {
          "output_type": "display_data",
          "data": {
            "text/plain": [
              "<Figure size 720x504 with 1 Axes>"
            ],
            "image/png": "[encoded data removed]"
          },
          "metadata": {
            "needs_background": "light"
          }
        }
      ]
    },
    {
      "cell_type": "markdown",
      "source": [
        "### **사고 지역**"
      ],
      "metadata": {
        "id": "Rt7ARwmZc-j5"
      }
    },
    {
      "cell_type": "code",
      "source": [
        "df_one['시'].value_counts().plot(kind='bar')\n",
        "df_obj=df_one.groupby(['사고내용','시']).count()['일시']\n",
        "df_por=df_obj.unstack().T/df_obj.groupby('사고내용').sum()\n",
        "df_por.T.plot.bar(stacked=True, legend='reverse', figsize=(10,7))"
      ],
      "metadata": {
        "colab": {
          "base_uri": "https://localhost:8080/",
          "height": 721
        },
        "id": "9LCSbxelQ2ps",
        "outputId": "6fafd748-da32-4f6a-925e-544d059db519"
      },
      "execution_count": null,
      "outputs": [
        {
          "output_type": "execute_result",
          "data": {
            "text/plain": [
              "<matplotlib.axes._subplots.AxesSubplot at 0x7f56a42e11d0>"
            ]
          },
          "metadata": {},
          "execution_count": 37
        },
        {
          "output_type": "display_data",
          "data": {
            "text/plain": [
              "<Figure size 432x288 with 1 Axes>"
            ],
            "image/png": "[encoded data removed]"
          },
          "metadata": {
            "needs_background": "light"
          }
        },
        {
          "output_type": "display_data",
          "data": {
            "text/plain": [
              "<Figure size 720x504 with 1 Axes>"
            ],
            "image/png": "[encoded data removed]"
          },
          "metadata": {
            "needs_background": "light"
          }
        }
      ]
    },
    {
      "cell_type": "code",
      "source": [
        "df_one['읍면동'].value_counts().plot(kind='bar')\n",
        "df_obj=df_one.groupby(['사고내용','읍면동']).count()['일시']\n",
        "df_por=df_obj.unstack().T/df_obj.groupby('사고내용').sum()\n",
        "df_por.T.plot.bar(stacked=True, legend='reverse', figsize=(10,7))"
      ],
      "metadata": {
        "colab": {
          "base_uri": "https://localhost:8080/",
          "height": 1000
        },
        "id": "uAMBDfabRrc5",
        "outputId": "60e95db7-0f67-468b-d1b3-3085e1c0d7d2"
      },
      "execution_count": null,
      "outputs": [
        {
          "output_type": "execute_result",
          "data": {
            "text/plain": [
              "<matplotlib.axes._subplots.AxesSubplot at 0x7f56a3c748d0>"
            ]
          },
          "metadata": {},
          "execution_count": 38
        },
        {
          "output_type": "display_data",
          "data": {
            "text/plain": [
              "<Figure size 432x288 with 1 Axes>"
            ],
            "image/png": "[encoded data removed]"
          },
          "metadata": {
            "needs_background": "light"
          }
        },
        {
          "output_type": "display_data",
          "data": {
            "text/plain": [
              "<Figure size 720x504 with 1 Axes>"
            ],
            "image/png": "[encoded data removed]"
          },
          "metadata": {
            "needs_background": "light"
          }
        }
      ]
    },
    {
      "cell_type": "markdown",
      "source": [
        "# **날씨 변수**"
      ],
      "metadata": {
        "id": "31UxWK_VdCv8"
      }
    },
    {
      "cell_type": "code",
      "source": [
        "plt.hist(df_one['기온(°C)'])\n",
        "\n"
      ],
      "metadata": {
        "colab": {
          "base_uri": "https://localhost:8080/",
          "height": 338
        },
        "id": "H2J0dRHtR26e",
        "outputId": "1852bcb1-4e2b-465a-c6ed-e6137902cf8e"
      },
      "execution_count": null,
      "outputs": [
        {
          "output_type": "execute_result",
          "data": {
            "text/plain": [
              "(array([ 35.,  89., 201., 327., 346., 394., 474., 454., 333.,  82.]),\n",
              " array([-2.3 ,  1.35,  5.  ,  8.65, 12.3 , 15.95, 19.6 , 23.25, 26.9 ,\n",
              "        30.55, 34.2 ]),\n",
              " <a list of 10 Patch objects>)"
            ]
          },
          "metadata": {},
          "execution_count": 39
        },
        {
          "output_type": "display_data",
          "data": {
            "text/plain": [
              "<Figure size 432x288 with 1 Axes>"
            ],
            "image/png": "[encoded data removed]"
          },
          "metadata": {
            "needs_background": "light"
          }
        }
      ]
    },
    {
      "cell_type": "code",
      "source": [
        "plt.hist(df_one.loc[df_one['사고내용']==0,'기온(°C)'])\n",
        "plt.hist(df_one.loc[df_one['사고내용']==1,'기온(°C)'])"
      ],
      "metadata": {
        "colab": {
          "base_uri": "https://localhost:8080/",
          "height": 338
        },
        "id": "2VTotXRlSGfR",
        "outputId": "00ba5313-c76f-4731-89c3-0a868d9b85f4"
      },
      "execution_count": null,
      "outputs": [
        {
          "output_type": "execute_result",
          "data": {
            "text/plain": [
              "(array([ 10.,  26.,  48.,  76.,  89., 114., 122., 123.,  92.,  28.]),\n",
              " array([-2.1 ,  1.46,  5.02,  8.58, 12.14, 15.7 , 19.26, 22.82, 26.38,\n",
              "        29.94, 33.5 ]),\n",
              " <a list of 10 Patch objects>)"
            ]
          },
          "metadata": {},
          "execution_count": 40
        },
        {
          "output_type": "display_data",
          "data": {
            "text/plain": [
              "<Figure size 432x288 with 1 Axes>"
            ],
            "image/png": "[encoded data removed]"
          },
          "metadata": {
            "needs_background": "light"
          }
        }
      ]
    },
    {
      "cell_type": "code",
      "source": [
        "plt.hist(df_one.loc[df_one['사고내용']==0,'풍속(m/s)'])\n",
        "plt.hist(df_one.loc[df_one['사고내용']==1,'풍속(m/s)'])"
      ],
      "metadata": {
        "colab": {
          "base_uri": "https://localhost:8080/",
          "height": 338
        },
        "id": "XiJkBlQHTPLL",
        "outputId": "bd8c6edc-ae8c-496b-8034-9e30337b8a06"
      },
      "execution_count": null,
      "outputs": [
        {
          "output_type": "execute_result",
          "data": {
            "text/plain": [
              "(array([ 96., 208., 179., 122.,  74.,  30.,  12.,   3.,   2.,   2.]),\n",
              " array([ 0.  ,  1.05,  2.1 ,  3.15,  4.2 ,  5.25,  6.3 ,  7.35,  8.4 ,\n",
              "         9.45, 10.5 ]),\n",
              " <a list of 10 Patch objects>)"
            ]
          },
          "metadata": {},
          "execution_count": 41
        },
        {
          "output_type": "display_data",
          "data": {
            "text/plain": [
              "<Figure size 432x288 with 1 Axes>"
            ],
            "image/png": "[encoded data removed]"
          },
          "metadata": {
            "needs_background": "light"
          }
        }
      ]
    },
    {
      "cell_type": "code",
      "source": [
        "plt.hist(df_one.loc[df_one['사고내용']==0,'습도(%)'])\n",
        "plt.hist(df_one.loc[df_one['사고내용']==1,'습도(%)'])"
      ],
      "metadata": {
        "colab": {
          "base_uri": "https://localhost:8080/",
          "height": 321
        },
        "id": "HHjwzZWNTPI3",
        "outputId": "4a08229c-f831-434f-ac0b-7de95728f814"
      },
      "execution_count": null,
      "outputs": [
        {
          "output_type": "execute_result",
          "data": {
            "text/plain": [
              "(array([  1.,   4.,  12.,  42.,  78., 135., 130., 109., 107., 110.]),\n",
              " array([13. , 21.6, 30.2, 38.8, 47.4, 56. , 64.6, 73.2, 81.8, 90.4, 99. ]),\n",
              " <a list of 10 Patch objects>)"
            ]
          },
          "metadata": {},
          "execution_count": 42
        },
        {
          "output_type": "display_data",
          "data": {
            "text/plain": [
              "<Figure size 432x288 with 1 Axes>"
            ],
            "image/png": "[encoded data removed]"
          },
          "metadata": {
            "needs_background": "light"
          }
        }
      ]
    },
    {
      "cell_type": "code",
      "source": [
        "plt.hist(df_one.loc[df_one['사고내용']==0,'현지기압(hPa)'])\n",
        "plt.hist(df_one.loc[df_one['사고내용']==1,'현지기압(hPa)'])"
      ],
      "metadata": {
        "colab": {
          "base_uri": "https://localhost:8080/",
          "height": 338
        },
        "id": "G4PTRjopTPGj",
        "outputId": "600e9850-0222-42a0-cd15-5720ec8123be"
      },
      "execution_count": null,
      "outputs": [
        {
          "output_type": "execute_result",
          "data": {
            "text/plain": [
              "(array([  9.,  25.,  75., 137., 135., 135., 108.,  72.,  27.,   5.]),\n",
              " array([ 990.9 ,  995.11,  999.32, 1003.53, 1007.74, 1011.95, 1016.16,\n",
              "        1020.37, 1024.58, 1028.79, 1033.  ]),\n",
              " <a list of 10 Patch objects>)"
            ]
          },
          "metadata": {},
          "execution_count": 43
        },
        {
          "output_type": "display_data",
          "data": {
            "text/plain": [
              "<Figure size 432x288 with 1 Axes>"
            ],
            "image/png": "[encoded data removed]"
          },
          "metadata": {
            "needs_background": "light"
          }
        }
      ]
    },
    {
      "cell_type": "code",
      "source": [
        "plt.hist(df_one.loc[df_one['사고내용']==0,'시정(10m)'])\n",
        "plt.hist(df_one.loc[df_one['사고내용']==1,'시정(10m)'])"
      ],
      "metadata": {
        "colab": {
          "base_uri": "https://localhost:8080/",
          "height": 338
        },
        "id": "3YAjBsOnTPDz",
        "outputId": "ff3ca370-985d-4c4c-cc0d-d284b4cdd65a"
      },
      "execution_count": null,
      "outputs": [
        {
          "output_type": "execute_result",
          "data": {
            "text/plain": [
              "(array([ 30.,  60.,  74., 542.,   6.,   2.,   0.,   5.,   2.,   7.]),\n",
              " array([ 163. ,  646.7, 1130.4, 1614.1, 2097.8, 2581.5, 3065.2, 3548.9,\n",
              "        4032.6, 4516.3, 5000. ]),\n",
              " <a list of 10 Patch objects>)"
            ]
          },
          "metadata": {},
          "execution_count": 44
        },
        {
          "output_type": "display_data",
          "data": {
            "text/plain": [
              "<Figure size 432x288 with 1 Axes>"
            ],
            "image/png": "[encoded data removed]"
          },
          "metadata": {
            "needs_background": "light"
          }
        }
      ]
    },
    {
      "cell_type": "code",
      "source": [
        "plt.hist(df_one.loc[df_one['사고내용']==0,'지면온도(°C)'])\n",
        "plt.hist(df_one.loc[df_one['사고내용']==1,'지면온도(°C)'])"
      ],
      "metadata": {
        "colab": {
          "base_uri": "https://localhost:8080/",
          "height": 338
        },
        "id": "TtxZ3PQGTPAo",
        "outputId": "94087b75-a98c-40ff-ba51-bf8c8f36cf55"
      },
      "execution_count": null,
      "outputs": [
        {
          "output_type": "execute_result",
          "data": {
            "text/plain": [
              "(array([ 47.,  99.,  85., 125., 148., 143.,  54.,  16.,   4.,   7.]),\n",
              " array([-0.5 ,  5.45, 11.4 , 17.35, 23.3 , 29.25, 35.2 , 41.15, 47.1 ,\n",
              "        53.05, 59.  ]),\n",
              " <a list of 10 Patch objects>)"
            ]
          },
          "metadata": {},
          "execution_count": 45
        },
        {
          "output_type": "display_data",
          "data": {
            "text/plain": [
              "<Figure size 432x288 with 1 Axes>"
            ],
            "image/png": "[encoded data removed]"
          },
          "metadata": {
            "needs_background": "light"
          }
        }
      ]
    },
    {
      "cell_type": "code",
      "source": [
        "plt.hist(df_one.loc[df_one['사고내용']==0,'비'])\n",
        "plt.hist(df_one.loc[df_one['사고내용']==1,'비'])"
      ],
      "metadata": {
        "colab": {
          "base_uri": "https://localhost:8080/",
          "height": 324
        },
        "id": "VMq66WreTqcH",
        "outputId": "fcc905fc-9bfc-4c2c-95ff-acd589bfe79a"
      },
      "execution_count": null,
      "outputs": [
        {
          "output_type": "execute_result",
          "data": {
            "text/plain": [
              "(array([413.,   0.,   0.,   0.,   0.,   0.,   0.,   0.,   0., 315.]),\n",
              " array([0. , 0.1, 0.2, 0.3, 0.4, 0.5, 0.6, 0.7, 0.8, 0.9, 1. ]),\n",
              " <a list of 10 Patch objects>)"
            ]
          },
          "metadata": {},
          "execution_count": 46
        },
        {
          "output_type": "display_data",
          "data": {
            "text/plain": [
              "<Figure size 432x288 with 1 Axes>"
            ],
            "image/png": "[encoded data removed]"
          },
          "metadata": {
            "needs_background": "light"
          }
        }
      ]
    },
    {
      "cell_type": "code",
      "source": [
        "plt.hist(df_one.loc[df_one['사고내용']==0,'눈'])\n",
        "plt.hist(df_one.loc[df_one['사고내용']==1,'눈'])"
      ],
      "metadata": {
        "colab": {
          "base_uri": "https://localhost:8080/",
          "height": 320
        },
        "id": "spvEiSRSTtzp",
        "outputId": "fbbe2f97-d58c-407a-e1dc-63000fcf2568"
      },
      "execution_count": null,
      "outputs": [
        {
          "output_type": "execute_result",
          "data": {
            "text/plain": [
              "(array([703.,   0.,   0.,   0.,   0.,   0.,   0.,   0.,   0.,  25.]),\n",
              " array([0. , 0.1, 0.2, 0.3, 0.4, 0.5, 0.6, 0.7, 0.8, 0.9, 1. ]),\n",
              " <a list of 10 Patch objects>)"
            ]
          },
          "metadata": {},
          "execution_count": 47
        },
        {
          "output_type": "display_data",
          "data": {
            "text/plain": [
              "<Figure size 432x288 with 1 Axes>"
            ],
            "image/png": "[encoded data removed]"
          },
          "metadata": {
            "needs_background": "light"
          }
        }
      ]
    },
    {
      "cell_type": "markdown",
      "source": [
        "# **파생변수 생성/ 기존변수 조정**"
      ],
      "metadata": {
        "id": "8CgH6fLZUGsx"
      }
    },
    {
      "cell_type": "markdown",
      "source": [
        "### 주말+공휴일 / 평일 구분 변수 생성"
      ],
      "metadata": {
        "id": "nb8DeZl-kChQ"
      }
    },
    {
      "cell_type": "code",
      "source": [
        "df_one['요일']"
      ],
      "metadata": {
        "colab": {
          "base_uri": "https://localhost:8080/"
        },
        "id": "Uqj9hFqIUIiD",
        "outputId": "985f0c4a-53f0-4339-ba39-394490f041e0"
      },
      "execution_count": null,
      "outputs": [
        {
          "output_type": "execute_result",
          "data": {
            "text/plain": [
              "0       일요일\n",
              "1       일요일\n",
              "2       일요일\n",
              "3       월요일\n",
              "4       화요일\n",
              "       ... \n",
              "2733    화요일\n",
              "2734    수요일\n",
              "2735    수요일\n",
              "2736    목요일\n",
              "2737    금요일\n",
              "Name: 요일, Length: 2735, dtype: object"
            ]
          },
          "metadata": {},
          "execution_count": 48
        }
      ]
    },
    {
      "cell_type": "code",
      "source": [
        "df_one.loc[df_one['요일'].isin(['일요일', '토요일'])==False, '요일'] = 0\n",
        "df_one.loc[df_one['요일'].isin(['일요일', '토요일']), '요일'] = 1"
      ],
      "metadata": {
        "colab": {
          "base_uri": "https://localhost:8080/"
        },
        "id": "xkjzBuQAUIfw",
        "outputId": "a46eaaaa-c93c-410c-e3fb-f979b371e98b"
      },
      "execution_count": null,
      "outputs": [
        {
          "output_type": "stream",
          "name": "stderr",
          "text": [
            "/usr/local/lib/python3.7/dist-packages/pandas/core/indexing.py:1817: SettingWithCopyWarning: \n",
            "A value is trying to be set on a copy of a slice from a DataFrame.\n",
            "Try using .loc[row_indexer,col_indexer] = value instead\n",
            "\n",
            "See the caveats in the documentation: https://pandas.pydata.org/pandas-docs/stable/user_guide/indexing.html#returning-a-view-versus-a-copy\n",
            "  self._setitem_single_column(loc, value, pi)\n"
          ]
        }
      ]
    },
    {
      "cell_type": "code",
      "source": [
        "df_one"
      ],
      "metadata": {
        "colab": {
          "base_uri": "https://localhost:8080/"
        },
        "id": "Zd43IUPpUIdv",
        "outputId": "f7388739-29d6-46ec-a894-ea61fc024103"
      },
      "execution_count": null,
      "outputs": [
        {
          "output_type": "execute_result",
          "data": {
            "text/plain": [
              "                       일시 요일  사고내용          사고유형     노면상태         도로형태  \\\n",
              "0     2017-01-01 15:00:00  1     0      차대차 - 기타  포장 - 건조      기타 - 기타   \n",
              "1     2017-01-01 18:00:00  1     1  차대사람 - 차도통행중  포장 - 건조     단일로 - 기타   \n",
              "2     2017-01-01 21:00:00  1     1   차량단독 - 전도전복  포장 - 건조   교차로 - 교차로안   \n",
              "3     2017-01-02 10:00:00  0     0    차대차 - 측면충돌  포장 - 건조   교차로 - 교차로안   \n",
              "4     2017-01-03 21:00:00  0     0  차량단독 - 공작물충돌  포장 - 건조     단일로 - 기타   \n",
              "...                   ... ..   ...           ...      ...          ...   \n",
              "2733  2021-12-28 12:00:00  0     0    차대사람 - 횡단중  포장 - 건조  교차로 - 교차로부근   \n",
              "2734  2021-12-29 11:00:00  0     0    차대사람 - 횡단중  포장 - 건조     단일로 - 기타   \n",
              "2735  2021-12-29 14:00:00  0     0    차대차 - 측면충돌  포장 - 건조     단일로 - 기타   \n",
              "2736  2021-12-30 12:00:00  0     0      차대차 - 기타  포장 - 건조     단일로 - 기타   \n",
              "2737  2021-12-31 12:00:00  0     0      차대차 - 기타  포장 - 건조     단일로 - 기타   \n",
              "\n",
              "     가해운전자 차종 가해운전자 성별 가해운전자 연령 가해운전자 상해정도    시   읍면동  기온(°C)  풍속(m/s)  습도(%)  \\\n",
              "0          승용        남      29세       상해없음   제주   애월읍    11.9      3.4   63.0   \n",
              "1          승용        남      42세       상해없음   제주  삼도이동    10.7      1.4   69.0   \n",
              "2          승용        남      47세         중상  서귀포   남원읍    11.2      0.7   70.0   \n",
              "3          승용        남      24세       상해없음  서귀포   성산읍    11.9      0.2   90.0   \n",
              "4          승용        남      20세       상해없음  서귀포   성산읍    10.5      1.1   76.0   \n",
              "...       ...      ...      ...        ...  ...   ...     ...      ...    ...   \n",
              "2733       승용        남      57세       상해없음   제주  일도이동     8.0      2.5   60.0   \n",
              "2734       승용        여      21세       상해없음   제주  일도일동    10.9      5.4   57.0   \n",
              "2735       승용        여      22세       상해없음   제주   한림읍    10.4      5.7   60.0   \n",
              "2736       승용        남      22세       상해없음  서귀포   색달동     8.2      3.7   45.0   \n",
              "2737       승용        남      28세         경상   제주   애월읍     5.9      4.9   56.0   \n",
              "\n",
              "      현지기압(hPa)  시정(10m)  지면온도(°C)  비  눈  \n",
              "0        1024.6   2000.0      12.4  0  0  \n",
              "1        1023.7   2000.0       8.8  0  0  \n",
              "2        1019.6   2000.0       9.1  0  0  \n",
              "3        1017.2   1494.0      10.7  1  0  \n",
              "4        1017.4   1266.0       7.9  0  0  \n",
              "...         ...      ...       ... .. ..  \n",
              "2733     1027.2   4660.0       6.9  0  1  \n",
              "2734     1020.8   2380.0       9.2  1  0  \n",
              "2735     1018.4   1749.0      10.3  1  0  \n",
              "2736     1018.5   2000.0       9.9  1  0  \n",
              "2737     1029.5   4374.0       6.7  1  0  \n",
              "\n",
              "[2735 rows x 20 columns]"
            ],
            "text/html": [
              "\n",
              "  <div id=\"df-a5cf7ead-ec99-4c57-a513-b70fec1a24a6\">\n",
              "    <div class=\"colab-df-container\">\n",
              "      <div>\n",
              "<style scoped>\n",
              "    .dataframe tbody tr th:only-of-type {\n",
              "        vertical-align: middle;\n",
              "    }\n",
              "\n",
              "    .dataframe tbody tr th {\n",
              "        vertical-align: top;\n",
              "    }\n",
              "\n",
              "    .dataframe thead th {\n",
              "        text-align: right;\n",
              "    }\n",
              "</style>\n",
              "<table border=\"1\" class=\"dataframe\">\n",
              "  <thead>\n",
              "    <tr style=\"text-align: right;\">\n",
              "      <th></th>\n",
              "      <th>일시</th>\n",
              "      <th>요일</th>\n",
              "      <th>사고내용</th>\n",
              "      <th>사고유형</th>\n",
              "      <th>노면상태</th>\n",
              "      <th>도로형태</th>\n",
              "      <th>가해운전자 차종</th>\n",
              "      <th>가해운전자 성별</th>\n",
              "      <th>가해운전자 연령</th>\n",
              "      <th>가해운전자 상해정도</th>\n",
              "      <th>시</th>\n",
              "      <th>읍면동</th>\n",
              "      <th>기온(°C)</th>\n",
              "      <th>풍속(m/s)</th>\n",
              "      <th>습도(%)</th>\n",
              "      <th>현지기압(hPa)</th>\n",
              "      <th>시정(10m)</th>\n",
              "      <th>지면온도(°C)</th>\n",
              "      <th>비</th>\n",
              "      <th>눈</th>\n",
              "    </tr>\n",
              "  </thead>\n",
              "  <tbody>\n",
              "    <tr>\n",
              "      <th>0</th>\n",
              "      <td>2017-01-01 15:00:00</td>\n",
              "      <td>1</td>\n",
              "      <td>0</td>\n",
              "      <td>차대차 - 기타</td>\n",
              "      <td>포장 - 건조</td>\n",
              "      <td>기타 - 기타</td>\n",
              "      <td>승용</td>\n",
              "      <td>남</td>\n",
              "      <td>29세</td>\n",
              "      <td>상해없음</td>\n",
              "      <td>제주</td>\n",
              "      <td>애월읍</td>\n",
              "      <td>11.9</td>\n",
              "      <td>3.4</td>\n",
              "      <td>63.0</td>\n",
              "      <td>1024.6</td>\n",
              "      <td>2000.0</td>\n",
              "      <td>12.4</td>\n",
              "      <td>0</td>\n",
              "      <td>0</td>\n",
              "    </tr>\n",
              "    <tr>\n",
              "      <th>1</th>\n",
              "      <td>2017-01-01 18:00:00</td>\n",
              "      <td>1</td>\n",
              "      <td>1</td>\n",
              "      <td>차대사람 - 차도통행중</td>\n",
              "      <td>포장 - 건조</td>\n",
              "      <td>단일로 - 기타</td>\n",
              "      <td>승용</td>\n",
              "      <td>남</td>\n",
              "      <td>42세</td>\n",
              "      <td>상해없음</td>\n",
              "      <td>제주</td>\n",
              "      <td>삼도이동</td>\n",
              "      <td>10.7</td>\n",
              "      <td>1.4</td>\n",
              "      <td>69.0</td>\n",
              "      <td>1023.7</td>\n",
              "      <td>2000.0</td>\n",
              "      <td>8.8</td>\n",
              "      <td>0</td>\n",
              "      <td>0</td>\n",
              "    </tr>\n",
              "    <tr>\n",
              "      <th>2</th>\n",
              "      <td>2017-01-01 21:00:00</td>\n",
              "      <td>1</td>\n",
              "      <td>1</td>\n",
              "      <td>차량단독 - 전도전복</td>\n",
              "      <td>포장 - 건조</td>\n",
              "      <td>교차로 - 교차로안</td>\n",
              "      <td>승용</td>\n",
              "      <td>남</td>\n",
              "      <td>47세</td>\n",
              "      <td>중상</td>\n",
              "      <td>서귀포</td>\n",
              "      <td>남원읍</td>\n",
              "      <td>11.2</td>\n",
              "      <td>0.7</td>\n",
              "      <td>70.0</td>\n",
              "      <td>1019.6</td>\n",
              "      <td>2000.0</td>\n",
              "      <td>9.1</td>\n",
              "      <td>0</td>\n",
              "      <td>0</td>\n",
              "    </tr>\n",
              "    <tr>\n",
              "      <th>3</th>\n",
              "      <td>2017-01-02 10:00:00</td>\n",
              "      <td>0</td>\n",
              "      <td>0</td>\n",
              "      <td>차대차 - 측면충돌</td>\n",
              "      <td>포장 - 건조</td>\n",
              "      <td>교차로 - 교차로안</td>\n",
              "      <td>승용</td>\n",
              "      <td>남</td>\n",
              "      <td>24세</td>\n",
              "      <td>상해없음</td>\n",
              "      <td>서귀포</td>\n",
              "      <td>성산읍</td>\n",
              "      <td>11.9</td>\n",
              "      <td>0.2</td>\n",
              "      <td>90.0</td>\n",
              "      <td>1017.2</td>\n",
              "      <td>1494.0</td>\n",
              "      <td>10.7</td>\n",
              "      <td>1</td>\n",
              "      <td>0</td>\n",
              "    </tr>\n",
              "    <tr>\n",
              "      <th>4</th>\n",
              "      <td>2017-01-03 21:00:00</td>\n",
              "      <td>0</td>\n",
              "      <td>0</td>\n",
              "      <td>차량단독 - 공작물충돌</td>\n",
              "      <td>포장 - 건조</td>\n",
              "      <td>단일로 - 기타</td>\n",
              "      <td>승용</td>\n",
              "      <td>남</td>\n",
              "      <td>20세</td>\n",
              "      <td>상해없음</td>\n",
              "      <td>서귀포</td>\n",
              "      <td>성산읍</td>\n",
              "      <td>10.5</td>\n",
              "      <td>1.1</td>\n",
              "      <td>76.0</td>\n",
              "      <td>1017.4</td>\n",
              "      <td>1266.0</td>\n",
              "      <td>7.9</td>\n",
              "      <td>0</td>\n",
              "      <td>0</td>\n",
              "    </tr>\n",
              "    <tr>\n",
              "      <th>...</th>\n",
              "      <td>...</td>\n",
              "      <td>...</td>\n",
              "      <td>...</td>\n",
              "      <td>...</td>\n",
              "      <td>...</td>\n",
              "      <td>...</td>\n",
              "      <td>...</td>\n",
              "      <td>...</td>\n",
              "      <td>...</td>\n",
              "      <td>...</td>\n",
              "      <td>...</td>\n",
              "      <td>...</td>\n",
              "      <td>...</td>\n",
              "      <td>...</td>\n",
              "      <td>...</td>\n",
              "      <td>...</td>\n",
              "      <td>...</td>\n",
              "      <td>...</td>\n",
              "      <td>...</td>\n",
              "      <td>...</td>\n",
              "    </tr>\n",
              "    <tr>\n",
              "      <th>2733</th>\n",
              "      <td>2021-12-28 12:00:00</td>\n",
              "      <td>0</td>\n",
              "      <td>0</td>\n",
              "      <td>차대사람 - 횡단중</td>\n",
              "      <td>포장 - 건조</td>\n",
              "      <td>교차로 - 교차로부근</td>\n",
              "      <td>승용</td>\n",
              "      <td>남</td>\n",
              "      <td>57세</td>\n",
              "      <td>상해없음</td>\n",
              "      <td>제주</td>\n",
              "      <td>일도이동</td>\n",
              "      <td>8.0</td>\n",
              "      <td>2.5</td>\n",
              "      <td>60.0</td>\n",
              "      <td>1027.2</td>\n",
              "      <td>4660.0</td>\n",
              "      <td>6.9</td>\n",
              "      <td>0</td>\n",
              "      <td>1</td>\n",
              "    </tr>\n",
              "    <tr>\n",
              "      <th>2734</th>\n",
              "      <td>2021-12-29 11:00:00</td>\n",
              "      <td>0</td>\n",
              "      <td>0</td>\n",
              "      <td>차대사람 - 횡단중</td>\n",
              "      <td>포장 - 건조</td>\n",
              "      <td>단일로 - 기타</td>\n",
              "      <td>승용</td>\n",
              "      <td>여</td>\n",
              "      <td>21세</td>\n",
              "      <td>상해없음</td>\n",
              "      <td>제주</td>\n",
              "      <td>일도일동</td>\n",
              "      <td>10.9</td>\n",
              "      <td>5.4</td>\n",
              "      <td>57.0</td>\n",
              "      <td>1020.8</td>\n",
              "      <td>2380.0</td>\n",
              "      <td>9.2</td>\n",
              "      <td>1</td>\n",
              "      <td>0</td>\n",
              "    </tr>\n",
              "    <tr>\n",
              "      <th>2735</th>\n",
              "      <td>2021-12-29 14:00:00</td>\n",
              "      <td>0</td>\n",
              "      <td>0</td>\n",
              "      <td>차대차 - 측면충돌</td>\n",
              "      <td>포장 - 건조</td>\n",
              "      <td>단일로 - 기타</td>\n",
              "      <td>승용</td>\n",
              "      <td>여</td>\n",
              "      <td>22세</td>\n",
              "      <td>상해없음</td>\n",
              "      <td>제주</td>\n",
              "      <td>한림읍</td>\n",
              "      <td>10.4</td>\n",
              "      <td>5.7</td>\n",
              "      <td>60.0</td>\n",
              "      <td>1018.4</td>\n",
              "      <td>1749.0</td>\n",
              "      <td>10.3</td>\n",
              "      <td>1</td>\n",
              "      <td>0</td>\n",
              "    </tr>\n",
              "    <tr>\n",
              "      <th>2736</th>\n",
              "      <td>2021-12-30 12:00:00</td>\n",
              "      <td>0</td>\n",
              "      <td>0</td>\n",
              "      <td>차대차 - 기타</td>\n",
              "      <td>포장 - 건조</td>\n",
              "      <td>단일로 - 기타</td>\n",
              "      <td>승용</td>\n",
              "      <td>남</td>\n",
              "      <td>22세</td>\n",
              "      <td>상해없음</td>\n",
              "      <td>서귀포</td>\n",
              "      <td>색달동</td>\n",
              "      <td>8.2</td>\n",
              "      <td>3.7</td>\n",
              "      <td>45.0</td>\n",
              "      <td>1018.5</td>\n",
              "      <td>2000.0</td>\n",
              "      <td>9.9</td>\n",
              "      <td>1</td>\n",
              "      <td>0</td>\n",
              "    </tr>\n",
              "    <tr>\n",
              "      <th>2737</th>\n",
              "      <td>2021-12-31 12:00:00</td>\n",
              "      <td>0</td>\n",
              "      <td>0</td>\n",
              "      <td>차대차 - 기타</td>\n",
              "      <td>포장 - 건조</td>\n",
              "      <td>단일로 - 기타</td>\n",
              "      <td>승용</td>\n",
              "      <td>남</td>\n",
              "      <td>28세</td>\n",
              "      <td>경상</td>\n",
              "      <td>제주</td>\n",
              "      <td>애월읍</td>\n",
              "      <td>5.9</td>\n",
              "      <td>4.9</td>\n",
              "      <td>56.0</td>\n",
              "      <td>1029.5</td>\n",
              "      <td>4374.0</td>\n",
              "      <td>6.7</td>\n",
              "      <td>1</td>\n",
              "      <td>0</td>\n",
              "    </tr>\n",
              "  </tbody>\n",
              "</table>\n",
              "<p>2735 rows × 20 columns</p>\n",
              "</div>\n",
              "      <button class=\"colab-df-convert\" onclick=\"convertToInteractive('df-a5cf7ead-ec99-4c57-a513-b70fec1a24a6')\"\n",
              "              title=\"Convert this dataframe to an interactive table.\"\n",
              "              style=\"display:none;\">\n",
              "        \n",
              "  <svg xmlns=\"http://www.w3.org/2000/svg\" height=\"24px\"viewBox=\"0 0 24 24\"\n",
              "       width=\"24px\">\n",
              "    <path d=\"M0 0h24v24H0V0z\" fill=\"none\"/>\n",
              "    <path d=\"M18.56 5.44l.94 2.06.94-2.06 2.06-.94-2.06-.94-.94-2.06-.94 2.06-2.06.94zm-11 1L8.5 8.5l.94-2.06 2.06-.94-2.06-.94L8.5 2.5l-.94 2.06-2.06.94zm10 10l.94 2.06.94-2.06 2.06-.94-2.06-.94-.94-2.06-.94 2.06-2.06.94z\"/><path d=\"M17.41 7.96l-1.37-1.37c-.4-.4-.92-.59-1.43-.59-.52 0-1.04.2-1.43.59L10.3 9.45l-7.72 7.72c-.78.78-.78 2.05 0 2.83L4 21.41c.39.39.9.59 1.41.59.51 0 1.02-.2 1.41-.59l7.78-7.78 2.81-2.81c.8-.78.8-2.07 0-2.86zM5.41 20L4 18.59l7.72-7.72 1.47 1.35L5.41 20z\"/>\n",
              "  </svg>\n",
              "      </button>\n",
              "      \n",
              "  <style>\n",
              "    .colab-df-container {\n",
              "      display:flex;\n",
              "      flex-wrap:wrap;\n",
              "      gap: 12px;\n",
              "    }\n",
              "\n",
              "    .colab-df-convert {\n",
              "      background-color: #E8F0FE;\n",
              "      border: none;\n",
              "      border-radius: 50%;\n",
              "      cursor: pointer;\n",
              "      display: none;\n",
              "      fill: #1967D2;\n",
              "      height: 32px;\n",
              "      padding: 0 0 0 0;\n",
              "      width: 32px;\n",
              "    }\n",
              "\n",
              "    .colab-df-convert:hover {\n",
              "      background-color: #E2EBFA;\n",
              "      box-shadow: 0px 1px 2px rgba(60, 64, 67, 0.3), 0px 1px 3px 1px rgba(60, 64, 67, 0.15);\n",
              "      fill: #174EA6;\n",
              "    }\n",
              "\n",
              "    [theme=dark] .colab-df-convert {\n",
              "      background-color: #3B4455;\n",
              "      fill: #D2E3FC;\n",
              "    }\n",
              "\n",
              "    [theme=dark] .colab-df-convert:hover {\n",
              "      background-color: #434B5C;\n",
              "      box-shadow: 0px 1px 3px 1px rgba(0, 0, 0, 0.15);\n",
              "      filter: drop-shadow(0px 1px 2px rgba(0, 0, 0, 0.3));\n",
              "      fill: #FFFFFF;\n",
              "    }\n",
              "  </style>\n",
              "\n",
              "      <script>\n",
              "        const buttonEl =\n",
              "          document.querySelector('#df-a5cf7ead-ec99-4c57-a513-b70fec1a24a6 button.colab-df-convert');\n",
              "        buttonEl.style.display =\n",
              "          google.colab.kernel.accessAllowed ? 'block' : 'none';\n",
              "\n",
              "        async function convertToInteractive(key) {\n",
              "          const element = document.querySelector('#df-a5cf7ead-ec99-4c57-a513-b70fec1a24a6');\n",
              "          const dataTable =\n",
              "            await google.colab.kernel.invokeFunction('convertToInteractive',\n",
              "                                                     [key], {});\n",
              "          if (!dataTable) return;\n",
              "\n",
              "          const docLinkHtml = 'Like what you see? Visit the ' +\n",
              "            '<a target=\"_blank\" href=https://colab.research.google.com/notebooks/data_table.ipynb>data table notebook</a>'\n",
              "            + ' to learn more about interactive tables.';\n",
              "          element.innerHTML = '';\n",
              "          dataTable['output_type'] = 'display_data';\n",
              "          await google.colab.output.renderOutput(dataTable, element);\n",
              "          const docLink = document.createElement('div');\n",
              "          docLink.innerHTML = docLinkHtml;\n",
              "          element.appendChild(docLink);\n",
              "        }\n",
              "      </script>\n",
              "    </div>\n",
              "  </div>\n",
              "  "
            ]
          },
          "metadata": {},
          "execution_count": 50
        }
      ]
    },
    {
      "cell_type": "code",
      "source": [
        "!pip install pytimekr\n",
        "from pytimekr import pytimekr"
      ],
      "metadata": {
        "colab": {
          "base_uri": "https://localhost:8080/"
        },
        "id": "7pcVWT8JUIbs",
        "outputId": "e1bf78fd-7a8e-4a68-cecb-dad4710cd63e"
      },
      "execution_count": null,
      "outputs": [
        {
          "output_type": "stream",
          "name": "stdout",
          "text": [
            "Looking in indexes: https://pypi.org/simple, https://us-python.pkg.dev/colab-wheels/public/simple/\n",
            "Collecting pytimekr\n",
            "  Downloading pytimekr-0.1.0.tar.gz (7.3 kB)\n",
            "Collecting lunardate>=0.1.5\n",
            "  Downloading lunardate-0.2.0-py3-none-any.whl (5.6 kB)\n",
            "Building wheels for collected packages: pytimekr\n",
            "  Building wheel for pytimekr (setup.py) ... \u001b[?25l\u001b[?25hdone\n",
            "  Created wheel for pytimekr: filename=pytimekr-0.1.0-py3-none-any.whl size=7940 sha256=d1f9767081ca50a1702b46cc42a48ce36202b2df660672c911fb4d5cf20b6a00\n",
            "  Stored in directory: /root/.cache/pip/wheels/7c/54/31/d099bce210ce51c45eeb97e149699dedc66c78eb84c01be9c2\n",
            "Successfully built pytimekr\n",
            "Installing collected packages: lunardate, pytimekr\n",
            "Successfully installed lunardate-0.2.0 pytimekr-0.1.0\n"
          ]
        }
      ]
    },
    {
      "cell_type": "code",
      "source": [
        "# 공휴일 출력\n",
        "hol_list = []\n",
        "hol_list.append(pytimekr.holidays(2017))\n",
        "hol_list.append(pytimekr.holidays(2018))\n",
        "hol_list.append(pytimekr.holidays(2019))\n",
        "hol_list.append(pytimekr.holidays(2020))\n",
        "hol_list.append(pytimekr.holidays(2021))"
      ],
      "metadata": {
        "id": "BJNk8DCvUIZn"
      },
      "execution_count": null,
      "outputs": []
    },
    {
      "cell_type": "code",
      "source": [
        "# 2차원 리스트 -> 1차원\n",
        "import itertools\n",
        "holiday = np.concatenate(hol_list).tolist()"
      ],
      "metadata": {
        "id": "wv05zPk2UIWy"
      },
      "execution_count": null,
      "outputs": []
    },
    {
      "cell_type": "code",
      "source": [
        "# 1차원 리스트 생성 완\n",
        "holiday"
      ],
      "metadata": {
        "colab": {
          "base_uri": "https://localhost:8080/"
        },
        "id": "dAsKaH4DUIUu",
        "outputId": "f52ecabe-a8c9-4591-acd5-5980b6b8e98c"
      },
      "execution_count": null,
      "outputs": [
        {
          "output_type": "execute_result",
          "data": {
            "text/plain": [
              "[datetime.date(2017, 1, 27),\n",
              " datetime.date(2017, 1, 28),\n",
              " datetime.date(2017, 1, 29),\n",
              " datetime.date(2017, 10, 3),\n",
              " datetime.date(2017, 10, 4),\n",
              " datetime.date(2017, 10, 5),\n",
              " datetime.date(2017, 1, 1),\n",
              " datetime.date(2017, 3, 1),\n",
              " datetime.date(2017, 5, 5),\n",
              " datetime.date(2017, 5, 3),\n",
              " datetime.date(2017, 6, 6),\n",
              " datetime.date(2017, 8, 15),\n",
              " datetime.date(2017, 10, 9),\n",
              " datetime.date(2017, 10, 3),\n",
              " datetime.date(2017, 12, 25),\n",
              " datetime.date(2018, 2, 15),\n",
              " datetime.date(2018, 2, 16),\n",
              " datetime.date(2018, 2, 17),\n",
              " datetime.date(2018, 9, 23),\n",
              " datetime.date(2018, 9, 24),\n",
              " datetime.date(2018, 9, 25),\n",
              " datetime.date(2018, 1, 1),\n",
              " datetime.date(2018, 3, 1),\n",
              " datetime.date(2018, 5, 5),\n",
              " datetime.date(2018, 5, 22),\n",
              " datetime.date(2018, 6, 6),\n",
              " datetime.date(2018, 8, 15),\n",
              " datetime.date(2018, 10, 9),\n",
              " datetime.date(2018, 10, 3),\n",
              " datetime.date(2018, 12, 25),\n",
              " datetime.date(2019, 2, 4),\n",
              " datetime.date(2019, 2, 5),\n",
              " datetime.date(2019, 2, 6),\n",
              " datetime.date(2019, 9, 12),\n",
              " datetime.date(2019, 9, 13),\n",
              " datetime.date(2019, 9, 14),\n",
              " datetime.date(2019, 1, 1),\n",
              " datetime.date(2019, 3, 1),\n",
              " datetime.date(2019, 5, 5),\n",
              " datetime.date(2019, 5, 12),\n",
              " datetime.date(2019, 6, 6),\n",
              " datetime.date(2019, 8, 15),\n",
              " datetime.date(2019, 10, 9),\n",
              " datetime.date(2019, 10, 3),\n",
              " datetime.date(2019, 12, 25),\n",
              " datetime.date(2020, 1, 24),\n",
              " datetime.date(2020, 1, 25),\n",
              " datetime.date(2020, 1, 26),\n",
              " datetime.date(2020, 9, 30),\n",
              " datetime.date(2020, 10, 1),\n",
              " datetime.date(2020, 10, 2),\n",
              " datetime.date(2020, 1, 1),\n",
              " datetime.date(2020, 3, 1),\n",
              " datetime.date(2020, 5, 5),\n",
              " datetime.date(2020, 4, 30),\n",
              " datetime.date(2020, 6, 6),\n",
              " datetime.date(2020, 8, 15),\n",
              " datetime.date(2020, 10, 9),\n",
              " datetime.date(2020, 10, 3),\n",
              " datetime.date(2020, 12, 25),\n",
              " datetime.date(2021, 2, 11),\n",
              " datetime.date(2021, 2, 12),\n",
              " datetime.date(2021, 2, 13),\n",
              " datetime.date(2021, 9, 20),\n",
              " datetime.date(2021, 9, 21),\n",
              " datetime.date(2021, 9, 22),\n",
              " datetime.date(2021, 1, 1),\n",
              " datetime.date(2021, 3, 1),\n",
              " datetime.date(2021, 5, 5),\n",
              " datetime.date(2021, 5, 19),\n",
              " datetime.date(2021, 6, 6),\n",
              " datetime.date(2021, 8, 15),\n",
              " datetime.date(2021, 10, 9),\n",
              " datetime.date(2021, 10, 3),\n",
              " datetime.date(2021, 12, 25)]"
            ]
          },
          "metadata": {},
          "execution_count": 54
        }
      ]
    },
    {
      "cell_type": "code",
      "source": [
        "df_one['요일'].sum()"
      ],
      "metadata": {
        "colab": {
          "base_uri": "https://localhost:8080/"
        },
        "id": "HgBLJwjlUISV",
        "outputId": "690a7455-e69a-462b-c93d-7bce0fed7cf3"
      },
      "execution_count": null,
      "outputs": [
        {
          "output_type": "execute_result",
          "data": {
            "text/plain": [
              "763"
            ]
          },
          "metadata": {},
          "execution_count": 55
        }
      ]
    },
    {
      "cell_type": "code",
      "source": [
        "def hol(a):\n",
        "  if(a in(holiday)):\n",
        "    return 1\n",
        "  else:\n",
        "    return 0"
      ],
      "metadata": {
        "id": "OuI2I1yrUIPx"
      },
      "execution_count": null,
      "outputs": []
    },
    {
      "cell_type": "code",
      "source": [
        "df_one.loc[:,'요일'] = df_one['요일']+df_one['일시'].apply(hol)\n",
        "df_one.loc[df_one['요일']==2,'요일']= 1"
      ],
      "metadata": {
        "colab": {
          "base_uri": "https://localhost:8080/"
        },
        "id": "1ej6cBUuUICT",
        "outputId": "f51cc56a-5bc7-494b-cb38-c874634e1f2c"
      },
      "execution_count": null,
      "outputs": [
        {
          "output_type": "stream",
          "name": "stderr",
          "text": [
            "/usr/local/lib/python3.7/dist-packages/pandas/core/indexing.py:1773: SettingWithCopyWarning: \n",
            "A value is trying to be set on a copy of a slice from a DataFrame.\n",
            "Try using .loc[row_indexer,col_indexer] = value instead\n",
            "\n",
            "See the caveats in the documentation: https://pandas.pydata.org/pandas-docs/stable/user_guide/indexing.html#returning-a-view-versus-a-copy\n",
            "  self._setitem_single_column(ilocs[0], value, pi)\n",
            "/usr/local/lib/python3.7/dist-packages/pandas/core/indexing.py:1817: SettingWithCopyWarning: \n",
            "A value is trying to be set on a copy of a slice from a DataFrame.\n",
            "Try using .loc[row_indexer,col_indexer] = value instead\n",
            "\n",
            "See the caveats in the documentation: https://pandas.pydata.org/pandas-docs/stable/user_guide/indexing.html#returning-a-view-versus-a-copy\n",
            "  self._setitem_single_column(loc, value, pi)\n"
          ]
        }
      ]
    },
    {
      "cell_type": "code",
      "source": [
        "df_one['요일'].sum()"
      ],
      "metadata": {
        "colab": {
          "base_uri": "https://localhost:8080/"
        },
        "id": "e51iBxXyUR6f",
        "outputId": "4dbef481-04ee-4a50-946c-7c829f4c8189"
      },
      "execution_count": null,
      "outputs": [
        {
          "output_type": "execute_result",
          "data": {
            "text/plain": [
              "763"
            ]
          },
          "metadata": {},
          "execution_count": 58
        }
      ]
    },
    {
      "cell_type": "code",
      "source": [
        "df_one.rename(columns={'요일':'주말/공휴일'},inplace=True)"
      ],
      "metadata": {
        "colab": {
          "base_uri": "https://localhost:8080/"
        },
        "id": "H1sOud38UR4U",
        "outputId": "198d03fe-f90c-4e00-89bd-85e43ba0b5c5"
      },
      "execution_count": null,
      "outputs": [
        {
          "output_type": "stream",
          "name": "stderr",
          "text": [
            "/usr/local/lib/python3.7/dist-packages/pandas/core/frame.py:5047: SettingWithCopyWarning: \n",
            "A value is trying to be set on a copy of a slice from a DataFrame\n",
            "\n",
            "See the caveats in the documentation: https://pandas.pydata.org/pandas-docs/stable/user_guide/indexing.html#returning-a-view-versus-a-copy\n",
            "  errors=errors,\n"
          ]
        }
      ]
    },
    {
      "cell_type": "code",
      "source": [
        "df_obj=df_one.groupby(['사고내용','주말/공휴일']).count()['일시']\n",
        "df_por=df_obj.unstack().T/df_obj.groupby('사고내용').sum()\n",
        "df_por.T.plot.bar(stacked=True, legend='reverse', figsize=(10,7))"
      ],
      "metadata": {
        "colab": {
          "base_uri": "https://localhost:8080/"
        },
        "id": "HdhuVLBjpHHG",
        "outputId": "1776c69d-6ba5-4a31-a829-ff3340733dbe"
      },
      "execution_count": null,
      "outputs": [
        {
          "output_type": "execute_result",
          "data": {
            "text/plain": [
              "<matplotlib.axes._subplots.AxesSubplot at 0x7f56cf1fe710>"
            ]
          },
          "metadata": {},
          "execution_count": 60
        },
        {
          "output_type": "display_data",
          "data": {
            "text/plain": [
              "<Figure size 720x504 with 1 Axes>"
            ],
            "image/png": "[encoded data removed]"
          },
          "metadata": {
            "needs_background": "light"
          }
        }
      ]
    },
    {
      "cell_type": "markdown",
      "source": [
        "### **나이 -> int 형으로 변환**"
      ],
      "metadata": {
        "id": "AV8zHlEpkffi"
      }
    },
    {
      "cell_type": "code",
      "source": [
        "df_one['가해운전자 연령'].unique()"
      ],
      "metadata": {
        "colab": {
          "base_uri": "https://localhost:8080/"
        },
        "id": "Nv2dPF8iknex",
        "outputId": "bba7cd5d-425d-48ca-cb11-3ddc47cc5f29"
      },
      "execution_count": null,
      "outputs": [
        {
          "output_type": "execute_result",
          "data": {
            "text/plain": [
              "array(['29세', '42세', '47세', '24세', '20세', '37세', '28세', '45세', '57세',\n",
              "       '34세', '32세', '41세', '54세', '30세', '35세', '25세', '49세', '18세',\n",
              "       '22세', '27세', '36세', '50세', '52세', '31세', '55세', '43세', '61세',\n",
              "       '21세', '53세', '56세', '23세', '19세', '71세', '40세', '39세', '26세',\n",
              "       '38세', '64세', '51세', '44세', '33세', '48세', '46세', '59세', '69세',\n",
              "       '60세', '63세', '62세', '58세', '76세', '66세', '70세', '72세', '67세',\n",
              "       '68세', '77세', '65세', '미분류', '74세', '17세', '16세', '79세', '82세',\n",
              "       '80세'], dtype=object)"
            ]
          },
          "metadata": {},
          "execution_count": 61
        }
      ]
    },
    {
      "cell_type": "code",
      "source": [
        "# 미분류 삭제"
      ],
      "metadata": {
        "id": "71aDnoF9UtUr"
      },
      "execution_count": null,
      "outputs": []
    },
    {
      "cell_type": "code",
      "source": [
        "(df_one['가해운전자 연령']=='미분류').sum()"
      ],
      "metadata": {
        "colab": {
          "base_uri": "https://localhost:8080/"
        },
        "id": "GRyPW7sFku9K",
        "outputId": "aa002f7d-42e4-4a4c-e50b-2a52aa1e6afe"
      },
      "execution_count": null,
      "outputs": [
        {
          "output_type": "execute_result",
          "data": {
            "text/plain": [
              "1"
            ]
          },
          "metadata": {},
          "execution_count": 63
        }
      ]
    },
    {
      "cell_type": "code",
      "source": [
        "df_one = df_one.loc[(df_one['가해운전자 연령']=='미분류')==False]"
      ],
      "metadata": {
        "id": "Wi0mAlX4k1j_"
      },
      "execution_count": null,
      "outputs": []
    },
    {
      "cell_type": "code",
      "source": [
        "def intly(a):\n",
        "  return a[:-1]"
      ],
      "metadata": {
        "id": "6ImrcQqNUR0K"
      },
      "execution_count": null,
      "outputs": []
    },
    {
      "cell_type": "code",
      "source": [
        "df_one.loc[:,'가해운전자 연령']=(df_one['가해운전자 연령'].apply(intly)).astype(int)"
      ],
      "metadata": {
        "id": "HlLotdskURvz"
      },
      "execution_count": null,
      "outputs": []
    },
    {
      "cell_type": "markdown",
      "source": [
        "### **노면상태 간략화**"
      ],
      "metadata": {
        "id": "egn1aPiQlYrm"
      }
    },
    {
      "cell_type": "code",
      "source": [
        "def pojang(a):\n",
        "  b = a.split(\" - \")\n",
        "  return b[0]\n",
        "\n",
        "def state(a):\n",
        "  b = a.split(\" - \")\n",
        "  return b[1]"
      ],
      "metadata": {
        "id": "8BF-3212mJ2x"
      },
      "execution_count": null,
      "outputs": []
    },
    {
      "cell_type": "code",
      "source": [
        "df_one['포장'] = df_one['노면상태'].apply(pojang)\n",
        "df_one['도로상태'] = df_one['노면상태'].apply(state)"
      ],
      "metadata": {
        "colab": {
          "base_uri": "https://localhost:8080/"
        },
        "id": "wl6CjkvPlZHp",
        "outputId": "481bbb18-11f5-4251-b383-1b21b07d2a30"
      },
      "execution_count": null,
      "outputs": [
        {
          "output_type": "stream",
          "name": "stderr",
          "text": [
            "/usr/local/lib/python3.7/dist-packages/ipykernel_launcher.py:1: SettingWithCopyWarning: \n",
            "A value is trying to be set on a copy of a slice from a DataFrame.\n",
            "Try using .loc[row_indexer,col_indexer] = value instead\n",
            "\n",
            "See the caveats in the documentation: https://pandas.pydata.org/pandas-docs/stable/user_guide/indexing.html#returning-a-view-versus-a-copy\n",
            "  \"\"\"Entry point for launching an IPython kernel.\n",
            "/usr/local/lib/python3.7/dist-packages/ipykernel_launcher.py:2: SettingWithCopyWarning: \n",
            "A value is trying to be set on a copy of a slice from a DataFrame.\n",
            "Try using .loc[row_indexer,col_indexer] = value instead\n",
            "\n",
            "See the caveats in the documentation: https://pandas.pydata.org/pandas-docs/stable/user_guide/indexing.html#returning-a-view-versus-a-copy\n",
            "  \n"
          ]
        }
      ]
    },
    {
      "cell_type": "code",
      "source": [
        "df_one = df_one[(df_one['포장']=='비포장')==False]"
      ],
      "metadata": {
        "id": "2L0YDg8DlZtj"
      },
      "execution_count": null,
      "outputs": []
    },
    {
      "cell_type": "code",
      "source": [
        "df_one.pop('노면상태')\n",
        "df_one.pop('포장')"
      ],
      "metadata": {
        "colab": {
          "base_uri": "https://localhost:8080/"
        },
        "id": "xu7e3ac_lZrH",
        "outputId": "c6ce138c-0ad4-496b-ea94-18ca5170fed9"
      },
      "execution_count": null,
      "outputs": [
        {
          "output_type": "execute_result",
          "data": {
            "text/plain": [
              "0       포장\n",
              "1       포장\n",
              "2       포장\n",
              "3       포장\n",
              "4       포장\n",
              "        ..\n",
              "2733    포장\n",
              "2734    포장\n",
              "2735    포장\n",
              "2736    포장\n",
              "2737    포장\n",
              "Name: 포장, Length: 2723, dtype: object"
            ]
          },
          "metadata": {},
          "execution_count": 71
        }
      ]
    },
    {
      "cell_type": "markdown",
      "source": [
        "### **사고유형 간략화**"
      ],
      "metadata": {
        "id": "22tnS8MPntBA"
      }
    },
    {
      "cell_type": "code",
      "source": [
        "def actype(a):\n",
        "  b = a.split(\" - \")\n",
        "  return b[0]\n",
        "\n",
        "def actype2(a):\n",
        "  b = a.split(\" - \")\n",
        "  return b[1]"
      ],
      "metadata": {
        "id": "1FRSIsNrlZm_"
      },
      "execution_count": null,
      "outputs": []
    },
    {
      "cell_type": "code",
      "source": [
        "df_one['사고유형1'] = df_one['사고유형'].apply(actype)"
      ],
      "metadata": {
        "id": "SG6SdE0voNI6"
      },
      "execution_count": null,
      "outputs": []
    },
    {
      "cell_type": "code",
      "source": [
        "df_one['사고유형2'] = df_one['사고유형'].apply(actype2)"
      ],
      "metadata": {
        "id": "JwSGsboWq7FR"
      },
      "execution_count": null,
      "outputs": []
    },
    {
      "cell_type": "code",
      "source": [
        "df_obj=df_one.groupby(['사고내용','사고유형1']).count()['일시']\n",
        "df_por=df_obj.unstack().T/df_obj.groupby('사고내용').sum()\n",
        "df_por.T.plot.bar(stacked=True, legend='reverse', figsize=(10,7))"
      ],
      "metadata": {
        "colab": {
          "base_uri": "https://localhost:8080/",
          "height": 456
        },
        "id": "ZrwdaJeYoNGe",
        "outputId": "066f10e7-c504-48b3-9c10-c790398be15d"
      },
      "execution_count": null,
      "outputs": [
        {
          "output_type": "execute_result",
          "data": {
            "text/plain": [
              "<matplotlib.axes._subplots.AxesSubplot at 0x7f56a028cc50>"
            ]
          },
          "metadata": {},
          "execution_count": 80
        },
        {
          "output_type": "display_data",
          "data": {
            "text/plain": [
              "<Figure size 720x504 with 1 Axes>"
            ],
            "image/png": "[encoded data removed]"
          },
          "metadata": {
            "needs_background": "light"
          }
        }
      ]
    },
    {
      "cell_type": "code",
      "source": [
        "df_obj=df_one.groupby(['사고내용','사고유형2']).count()['일시']\n",
        "df_por=df_obj.unstack().T/df_obj.groupby('사고내용').sum()\n",
        "df_por.T.plot.bar(stacked=True, legend='reverse', figsize=(10,7))"
      ],
      "metadata": {
        "id": "ISzyODUGoNDu",
        "colab": {
          "base_uri": "https://localhost:8080/",
          "height": 456
        },
        "outputId": "dc097c16-7337-41d9-f6ea-ea08bf559a71"
      },
      "execution_count": null,
      "outputs": [
        {
          "output_type": "execute_result",
          "data": {
            "text/plain": [
              "<matplotlib.axes._subplots.AxesSubplot at 0x7f56a00e2b90>"
            ]
          },
          "metadata": {},
          "execution_count": 81
        },
        {
          "output_type": "display_data",
          "data": {
            "text/plain": [
              "<Figure size 720x504 with 1 Axes>"
            ],
            "image/png": "[encoded data removed]"
          },
          "metadata": {
            "needs_background": "light"
          }
        }
      ]
    },
    {
      "cell_type": "markdown",
      "source": [
        "![image.png](data:image/png;base64,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)"
      ],
      "metadata": {
        "id": "VVMCTA8Mukm_"
      }
    },
    {
      "cell_type": "code",
      "source": [
        "df_one['읍면동'].unique()"
      ],
      "metadata": {
        "id": "FKOPZeiyoNBO",
        "colab": {
          "base_uri": "https://localhost:8080/"
        },
        "outputId": "4b4e7849-f248-459e-a685-900fe00f7a38"
      },
      "execution_count": null,
      "outputs": [
        {
          "output_type": "execute_result",
          "data": {
            "text/plain": [
              "array(['애월읍', '삼도이동', '남원읍', '성산읍', '조천읍', '호근동', '이호일동', '한림읍', '용담이동',\n",
              "       '건입동', '표선면', '중문동', '연동', '이도이동', '안덕면', '강정동', '구좌읍', '오등동',\n",
              "       '서호동', '대정읍', '색달동', '오라이동', '이도일동', '서귀동', '하원동', '화북이동', '동홍동',\n",
              "       '토평동', '도두이동', '일도일동', '외도일동', '용담일동', '우도면', '도두일동', '하효동', '한경면',\n",
              "       '서홍동', '도평동', '노형동', '회수동', '도순동', '일도이동', '해안동', '대포동', '법환동',\n",
              "       '삼양삼동', '도남동', '도련일동', '오라삼동', '상효동', '이호이동', '용담삼동', '상예동', '내도동',\n",
              "       '오라일동', '신효동', '봉개동', '삼도일동', '아라일동', '도련이동', '아라이동', '삼양일동',\n",
              "       '회천동', '하예동', '영평동', '영남동', '화북일동', '외도이동', '용강동', '삼양이동', '월평동',\n",
              "       '보목동'], dtype=object)"
            ]
          },
          "metadata": {},
          "execution_count": 86
        }
      ]
    },
    {
      "cell_type": "code",
      "source": [
        "제주=['일도일동','일도이동','이도일동','삼도일동','삼도이동','건임동','용담일동','용담삼동','오라일동','오라삼동','아라이동','도두일동','도두이동','이호일동','이호이동','용담이동','화북일동','외도일동','도평동','노형동','연동','도남동','이도이동','화북이동','도련일동','해안동','오라이동','오동동','아라일동','월평동','용감동','봉개동','외천동','건입동','오등동','삼양동','삼양일동','삼양이동','삼양삼동','내도동','도련일동','도련이동','회천동','영평동','외도일동','외도이동','용강동']\n",
        "서귀포=['강정동','대포동','도순동','동홍동','법환동','보목동','상예동','상효동','색달동','서귀동','서호동','서홍동','신효동','영남동','월평동','중문동','토평동','하예동','하원동','하효동','호근동','회수동']"
      ],
      "metadata": {
        "id": "Jwdxg7XxlZkr"
      },
      "execution_count": null,
      "outputs": []
    },
    {
      "cell_type": "code",
      "source": [
        "df_one.loc[df_one['읍면동'].isin(제주),'읍면동'] = '제주시'"
      ],
      "metadata": {
        "id": "iNC6muhZlZh9"
      },
      "execution_count": null,
      "outputs": []
    },
    {
      "cell_type": "code",
      "source": [
        "df_one.loc[df_one['읍면동'].isin(서귀포),'읍면동'] = '서귀포시'"
      ],
      "metadata": {
        "id": "S2slr0YLlZfa"
      },
      "execution_count": null,
      "outputs": []
    },
    {
      "cell_type": "code",
      "source": [
        "df_one['읍면동'].unique()"
      ],
      "metadata": {
        "colab": {
          "base_uri": "https://localhost:8080/"
        },
        "id": "gGCqS-gszO2c",
        "outputId": "a5c8def5-d8c9-48a0-fbea-aaf792fbee4b"
      },
      "execution_count": null,
      "outputs": [
        {
          "output_type": "execute_result",
          "data": {
            "text/plain": [
              "array(['애월읍', '제주시', '남원읍', '성산읍', '조천읍', '서귀포시', '한림읍', '표선면', '안덕면',\n",
              "       '구좌읍', '대정읍', '우도면', '한경면'], dtype=object)"
            ]
          },
          "metadata": {},
          "execution_count": 99
        }
      ]
    },
    {
      "cell_type": "markdown",
      "source": [
        "# **변수간 관계**"
      ],
      "metadata": {
        "id": "v9hspmpIfG4q"
      }
    },
    {
      "cell_type": "code",
      "source": [
        "# 히트맵\n",
        "plt.figure(figsize=(15,15))\n",
        "sns.heatmap(data=df_one.corr(),annot=True, \n",
        "fmt = '.2f', linewidths=.5, cmap='Blues'\n",
        ")"
      ],
      "metadata": {
        "colab": {
          "base_uri": "https://localhost:8080/",
          "height": 979
        },
        "id": "mjKC0cmcfJC2",
        "outputId": "b5b9b622-49a4-493d-f33a-4586e1b996b7"
      },
      "execution_count": null,
      "outputs": [
        {
          "output_type": "stream",
          "name": "stderr",
          "text": [
            "/usr/local/lib/python3.7/dist-packages/matplotlib/backends/backend_agg.py:214: RuntimeWarning: Glyph 8722 missing from current font.\n",
            "  font.set_text(s, 0.0, flags=flags)\n",
            "/usr/local/lib/python3.7/dist-packages/matplotlib/backends/backend_agg.py:183: RuntimeWarning: Glyph 8722 missing from current font.\n",
            "  font.set_text(s, 0, flags=flags)\n"
          ]
        },
        {
          "output_type": "execute_result",
          "data": {
            "text/plain": [
              "<matplotlib.axes._subplots.AxesSubplot at 0x7f569d519890>"
            ]
          },
          "metadata": {},
          "execution_count": 100
        },
        {
          "output_type": "display_data",
          "data": {
            "text/plain": [
              "<Figure size 1080x1080 with 2 Axes>"
            ],
            "image/png": "[encoded data removed]"
          },
          "metadata": {
            "needs_background": "light"
          }
        }
      ]
    },
    {
      "cell_type": "code",
      "source": [
        "# 다중공선성"
      ],
      "metadata": {
        "id": "GzwGl7d1fJAD"
      },
      "execution_count": null,
      "outputs": []
    },
    {
      "cell_type": "code",
      "source": [
        "df_one.columns"
      ],
      "metadata": {
        "colab": {
          "base_uri": "https://localhost:8080/"
        },
        "id": "KcEuQANXjyDC",
        "outputId": "1f775c14-b840-4994-9194-9f2636442d0e"
      },
      "execution_count": null,
      "outputs": [
        {
          "output_type": "execute_result",
          "data": {
            "text/plain": [
              "Index(['일시', '주말/공휴일', '사고내용', '도로형태', '가해운전자 차종', '가해운전자 성별', '가해운전자 연령', '시',\n",
              "       '읍면동', '기온(°C)', '풍속(m/s)', '습도(%)', '현지기압(hPa)', '시정(10m)', '지면온도(°C)',\n",
              "       '비', '눈', '도로상태', '사고유형2', '사고유형1'],\n",
              "      dtype='object')"
            ]
          },
          "metadata": {},
          "execution_count": 102
        }
      ]
    },
    {
      "cell_type": "code",
      "source": [
        "dfX = df_one[['가해운전자 연령','기온(°C)', '풍속(m/s)', '습도(%)','현지기압(hPa)', '시정(10m)', '지면온도(°C)', '비', '눈']]\n",
        "dfX"
      ],
      "metadata": {
        "colab": {
          "base_uri": "https://localhost:8080/",
          "height": 424
        },
        "id": "4eISlrMMgxcN",
        "outputId": "69360343-16ec-4f33-df5f-2a0e2021ded8"
      },
      "execution_count": null,
      "outputs": [
        {
          "output_type": "execute_result",
          "data": {
            "text/plain": [
              "      가해운전자 연령  기온(°C)  풍속(m/s)  습도(%)  현지기압(hPa)  시정(10m)  지면온도(°C)  비  눈\n",
              "0           29    11.9      3.4   63.0     1024.6   2000.0      12.4  0  0\n",
              "1           42    10.7      1.4   69.0     1023.7   2000.0       8.8  0  0\n",
              "2           47    11.2      0.7   70.0     1019.6   2000.0       9.1  0  0\n",
              "3           24    11.9      0.2   90.0     1017.2   1494.0      10.7  1  0\n",
              "4           20    10.5      1.1   76.0     1017.4   1266.0       7.9  0  0\n",
              "...        ...     ...      ...    ...        ...      ...       ... .. ..\n",
              "2733        57     8.0      2.5   60.0     1027.2   4660.0       6.9  0  1\n",
              "2734        21    10.9      5.4   57.0     1020.8   2380.0       9.2  1  0\n",
              "2735        22    10.4      5.7   60.0     1018.4   1749.0      10.3  1  0\n",
              "2736        22     8.2      3.7   45.0     1018.5   2000.0       9.9  1  0\n",
              "2737        28     5.9      4.9   56.0     1029.5   4374.0       6.7  1  0\n",
              "\n",
              "[2723 rows x 9 columns]"
            ],
            "text/html": [
              "\n",
              "  <div id=\"df-520e4fe8-2c96-42cc-bcea-4e1adb5f57a8\">\n",
              "    <div class=\"colab-df-container\">\n",
              "      <div>\n",
              "<style scoped>\n",
              "    .dataframe tbody tr th:only-of-type {\n",
              "        vertical-align: middle;\n",
              "    }\n",
              "\n",
              "    .dataframe tbody tr th {\n",
              "        vertical-align: top;\n",
              "    }\n",
              "\n",
              "    .dataframe thead th {\n",
              "        text-align: right;\n",
              "    }\n",
              "</style>\n",
              "<table border=\"1\" class=\"dataframe\">\n",
              "  <thead>\n",
              "    <tr style=\"text-align: right;\">\n",
              "      <th></th>\n",
              "      <th>가해운전자 연령</th>\n",
              "      <th>기온(°C)</th>\n",
              "      <th>풍속(m/s)</th>\n",
              "      <th>습도(%)</th>\n",
              "      <th>현지기압(hPa)</th>\n",
              "      <th>시정(10m)</th>\n",
              "      <th>지면온도(°C)</th>\n",
              "      <th>비</th>\n",
              "      <th>눈</th>\n",
              "    </tr>\n",
              "  </thead>\n",
              "  <tbody>\n",
              "    <tr>\n",
              "      <th>0</th>\n",
              "      <td>29</td>\n",
              "      <td>11.9</td>\n",
              "      <td>3.4</td>\n",
              "      <td>63.0</td>\n",
              "      <td>1024.6</td>\n",
              "      <td>2000.0</td>\n",
              "      <td>12.4</td>\n",
              "      <td>0</td>\n",
              "      <td>0</td>\n",
              "    </tr>\n",
              "    <tr>\n",
              "      <th>1</th>\n",
              "      <td>42</td>\n",
              "      <td>10.7</td>\n",
              "      <td>1.4</td>\n",
              "      <td>69.0</td>\n",
              "      <td>1023.7</td>\n",
              "      <td>2000.0</td>\n",
              "      <td>8.8</td>\n",
              "      <td>0</td>\n",
              "      <td>0</td>\n",
              "    </tr>\n",
              "    <tr>\n",
              "      <th>2</th>\n",
              "      <td>47</td>\n",
              "      <td>11.2</td>\n",
              "      <td>0.7</td>\n",
              "      <td>70.0</td>\n",
              "      <td>1019.6</td>\n",
              "      <td>2000.0</td>\n",
              "      <td>9.1</td>\n",
              "      <td>0</td>\n",
              "      <td>0</td>\n",
              "    </tr>\n",
              "    <tr>\n",
              "      <th>3</th>\n",
              "      <td>24</td>\n",
              "      <td>11.9</td>\n",
              "      <td>0.2</td>\n",
              "      <td>90.0</td>\n",
              "      <td>1017.2</td>\n",
              "      <td>1494.0</td>\n",
              "      <td>10.7</td>\n",
              "      <td>1</td>\n",
              "      <td>0</td>\n",
              "    </tr>\n",
              "    <tr>\n",
              "      <th>4</th>\n",
              "      <td>20</td>\n",
              "      <td>10.5</td>\n",
              "      <td>1.1</td>\n",
              "      <td>76.0</td>\n",
              "      <td>1017.4</td>\n",
              "      <td>1266.0</td>\n",
              "      <td>7.9</td>\n",
              "      <td>0</td>\n",
              "      <td>0</td>\n",
              "    </tr>\n",
              "    <tr>\n",
              "      <th>...</th>\n",
              "      <td>...</td>\n",
              "      <td>...</td>\n",
              "      <td>...</td>\n",
              "      <td>...</td>\n",
              "      <td>...</td>\n",
              "      <td>...</td>\n",
              "      <td>...</td>\n",
              "      <td>...</td>\n",
              "      <td>...</td>\n",
              "    </tr>\n",
              "    <tr>\n",
              "      <th>2733</th>\n",
              "      <td>57</td>\n",
              "      <td>8.0</td>\n",
              "      <td>2.5</td>\n",
              "      <td>60.0</td>\n",
              "      <td>1027.2</td>\n",
              "      <td>4660.0</td>\n",
              "      <td>6.9</td>\n",
              "      <td>0</td>\n",
              "      <td>1</td>\n",
              "    </tr>\n",
              "    <tr>\n",
              "      <th>2734</th>\n",
              "      <td>21</td>\n",
              "      <td>10.9</td>\n",
              "      <td>5.4</td>\n",
              "      <td>57.0</td>\n",
              "      <td>1020.8</td>\n",
              "      <td>2380.0</td>\n",
              "      <td>9.2</td>\n",
              "      <td>1</td>\n",
              "      <td>0</td>\n",
              "    </tr>\n",
              "    <tr>\n",
              "      <th>2735</th>\n",
              "      <td>22</td>\n",
              "      <td>10.4</td>\n",
              "      <td>5.7</td>\n",
              "      <td>60.0</td>\n",
              "      <td>1018.4</td>\n",
              "      <td>1749.0</td>\n",
              "      <td>10.3</td>\n",
              "      <td>1</td>\n",
              "      <td>0</td>\n",
              "    </tr>\n",
              "    <tr>\n",
              "      <th>2736</th>\n",
              "      <td>22</td>\n",
              "      <td>8.2</td>\n",
              "      <td>3.7</td>\n",
              "      <td>45.0</td>\n",
              "      <td>1018.5</td>\n",
              "      <td>2000.0</td>\n",
              "      <td>9.9</td>\n",
              "      <td>1</td>\n",
              "      <td>0</td>\n",
              "    </tr>\n",
              "    <tr>\n",
              "      <th>2737</th>\n",
              "      <td>28</td>\n",
              "      <td>5.9</td>\n",
              "      <td>4.9</td>\n",
              "      <td>56.0</td>\n",
              "      <td>1029.5</td>\n",
              "      <td>4374.0</td>\n",
              "      <td>6.7</td>\n",
              "      <td>1</td>\n",
              "      <td>0</td>\n",
              "    </tr>\n",
              "  </tbody>\n",
              "</table>\n",
              "<p>2723 rows × 9 columns</p>\n",
              "</div>\n",
              "      <button class=\"colab-df-convert\" onclick=\"convertToInteractive('df-520e4fe8-2c96-42cc-bcea-4e1adb5f57a8')\"\n",
              "              title=\"Convert this dataframe to an interactive table.\"\n",
              "              style=\"display:none;\">\n",
              "        \n",
              "  <svg xmlns=\"http://www.w3.org/2000/svg\" height=\"24px\"viewBox=\"0 0 24 24\"\n",
              "       width=\"24px\">\n",
              "    <path d=\"M0 0h24v24H0V0z\" fill=\"none\"/>\n",
              "    <path d=\"M18.56 5.44l.94 2.06.94-2.06 2.06-.94-2.06-.94-.94-2.06-.94 2.06-2.06.94zm-11 1L8.5 8.5l.94-2.06 2.06-.94-2.06-.94L8.5 2.5l-.94 2.06-2.06.94zm10 10l.94 2.06.94-2.06 2.06-.94-2.06-.94-.94-2.06-.94 2.06-2.06.94z\"/><path d=\"M17.41 7.96l-1.37-1.37c-.4-.4-.92-.59-1.43-.59-.52 0-1.04.2-1.43.59L10.3 9.45l-7.72 7.72c-.78.78-.78 2.05 0 2.83L4 21.41c.39.39.9.59 1.41.59.51 0 1.02-.2 1.41-.59l7.78-7.78 2.81-2.81c.8-.78.8-2.07 0-2.86zM5.41 20L4 18.59l7.72-7.72 1.47 1.35L5.41 20z\"/>\n",
              "  </svg>\n",
              "      </button>\n",
              "      \n",
              "  <style>\n",
              "    .colab-df-container {\n",
              "      display:flex;\n",
              "      flex-wrap:wrap;\n",
              "      gap: 12px;\n",
              "    }\n",
              "\n",
              "    .colab-df-convert {\n",
              "      background-color: #E8F0FE;\n",
              "      border: none;\n",
              "      border-radius: 50%;\n",
              "      cursor: pointer;\n",
              "      display: none;\n",
              "      fill: #1967D2;\n",
              "      height: 32px;\n",
              "      padding: 0 0 0 0;\n",
              "      width: 32px;\n",
              "    }\n",
              "\n",
              "    .colab-df-convert:hover {\n",
              "      background-color: #E2EBFA;\n",
              "      box-shadow: 0px 1px 2px rgba(60, 64, 67, 0.3), 0px 1px 3px 1px rgba(60, 64, 67, 0.15);\n",
              "      fill: #174EA6;\n",
              "    }\n",
              "\n",
              "    [theme=dark] .colab-df-convert {\n",
              "      background-color: #3B4455;\n",
              "      fill: #D2E3FC;\n",
              "    }\n",
              "\n",
              "    [theme=dark] .colab-df-convert:hover {\n",
              "      background-color: #434B5C;\n",
              "      box-shadow: 0px 1px 3px 1px rgba(0, 0, 0, 0.15);\n",
              "      filter: drop-shadow(0px 1px 2px rgba(0, 0, 0, 0.3));\n",
              "      fill: #FFFFFF;\n",
              "    }\n",
              "  </style>\n",
              "\n",
              "      <script>\n",
              "        const buttonEl =\n",
              "          document.querySelector('#df-520e4fe8-2c96-42cc-bcea-4e1adb5f57a8 button.colab-df-convert');\n",
              "        buttonEl.style.display =\n",
              "          google.colab.kernel.accessAllowed ? 'block' : 'none';\n",
              "\n",
              "        async function convertToInteractive(key) {\n",
              "          const element = document.querySelector('#df-520e4fe8-2c96-42cc-bcea-4e1adb5f57a8');\n",
              "          const dataTable =\n",
              "            await google.colab.kernel.invokeFunction('convertToInteractive',\n",
              "                                                     [key], {});\n",
              "          if (!dataTable) return;\n",
              "\n",
              "          const docLinkHtml = 'Like what you see? Visit the ' +\n",
              "            '<a target=\"_blank\" href=https://colab.research.google.com/notebooks/data_table.ipynb>data table notebook</a>'\n",
              "            + ' to learn more about interactive tables.';\n",
              "          element.innerHTML = '';\n",
              "          dataTable['output_type'] = 'display_data';\n",
              "          await google.colab.output.renderOutput(dataTable, element);\n",
              "          const docLink = document.createElement('div');\n",
              "          docLink.innerHTML = docLinkHtml;\n",
              "          element.appendChild(docLink);\n",
              "        }\n",
              "      </script>\n",
              "    </div>\n",
              "  </div>\n",
              "  "
            ]
          },
          "metadata": {},
          "execution_count": 103
        }
      ]
    },
    {
      "cell_type": "code",
      "source": [
        "from statsmodels.stats.outliers_influence import variance_inflation_factor\n",
        "vif = pd.DataFrame()\n",
        "vif['VIF Factor'] = [variance_inflation_factor(dfX.values, i) for i in range(dfX.shape[1])]\n",
        "vif['features'] = dfX.columns\n",
        "vif = vif.sort_values('VIF Factor').reset_index(drop=True)\n",
        "vif"
      ],
      "metadata": {
        "colab": {
          "base_uri": "https://localhost:8080/",
          "height": 332
        },
        "id": "dtbby2_ofI7q",
        "outputId": "5eeadd60-ebbd-4c61-ce20-77736d6c65ce"
      },
      "execution_count": null,
      "outputs": [
        {
          "output_type": "execute_result",
          "data": {
            "text/plain": [
              "   VIF Factor   features\n",
              "0    1.264948          눈\n",
              "1    2.336149          비\n",
              "2    4.328745    풍속(m/s)\n",
              "3    8.764182   가해운전자 연령\n",
              "4   12.132600    시정(10m)\n",
              "5   20.750738   지면온도(°C)\n",
              "6   31.472614      습도(%)\n",
              "7   32.439547     기온(°C)\n",
              "8   56.343410  현지기압(hPa)"
            ],
            "text/html": [
              "\n",
              "  <div id=\"df-af547cd7-c2dd-4595-bcbc-547d425b7f67\">\n",
              "    <div class=\"colab-df-container\">\n",
              "      <div>\n",
              "<style scoped>\n",
              "    .dataframe tbody tr th:only-of-type {\n",
              "        vertical-align: middle;\n",
              "    }\n",
              "\n",
              "    .dataframe tbody tr th {\n",
              "        vertical-align: top;\n",
              "    }\n",
              "\n",
              "    .dataframe thead th {\n",
              "        text-align: right;\n",
              "    }\n",
              "</style>\n",
              "<table border=\"1\" class=\"dataframe\">\n",
              "  <thead>\n",
              "    <tr style=\"text-align: right;\">\n",
              "      <th></th>\n",
              "      <th>VIF Factor</th>\n",
              "      <th>features</th>\n",
              "    </tr>\n",
              "  </thead>\n",
              "  <tbody>\n",
              "    <tr>\n",
              "      <th>0</th>\n",
              "      <td>1.264948</td>\n",
              "      <td>눈</td>\n",
              "    </tr>\n",
              "    <tr>\n",
              "      <th>1</th>\n",
              "      <td>2.336149</td>\n",
              "      <td>비</td>\n",
              "    </tr>\n",
              "    <tr>\n",
              "      <th>2</th>\n",
              "      <td>4.328745</td>\n",
              "      <td>풍속(m/s)</td>\n",
              "    </tr>\n",
              "    <tr>\n",
              "      <th>3</th>\n",
              "      <td>8.764182</td>\n",
              "      <td>가해운전자 연령</td>\n",
              "    </tr>\n",
              "    <tr>\n",
              "      <th>4</th>\n",
              "      <td>12.132600</td>\n",
              "      <td>시정(10m)</td>\n",
              "    </tr>\n",
              "    <tr>\n",
              "      <th>5</th>\n",
              "      <td>20.750738</td>\n",
              "      <td>지면온도(°C)</td>\n",
              "    </tr>\n",
              "    <tr>\n",
              "      <th>6</th>\n",
              "      <td>31.472614</td>\n",
              "      <td>습도(%)</td>\n",
              "    </tr>\n",
              "    <tr>\n",
              "      <th>7</th>\n",
              "      <td>32.439547</td>\n",
              "      <td>기온(°C)</td>\n",
              "    </tr>\n",
              "    <tr>\n",
              "      <th>8</th>\n",
              "      <td>56.343410</td>\n",
              "      <td>현지기압(hPa)</td>\n",
              "    </tr>\n",
              "  </tbody>\n",
              "</table>\n",
              "</div>\n",
              "      <button class=\"colab-df-convert\" onclick=\"convertToInteractive('df-af547cd7-c2dd-4595-bcbc-547d425b7f67')\"\n",
              "              title=\"Convert this dataframe to an interactive table.\"\n",
              "              style=\"display:none;\">\n",
              "        \n",
              "  <svg xmlns=\"http://www.w3.org/2000/svg\" height=\"24px\"viewBox=\"0 0 24 24\"\n",
              "       width=\"24px\">\n",
              "    <path d=\"M0 0h24v24H0V0z\" fill=\"none\"/>\n",
              "    <path d=\"M18.56 5.44l.94 2.06.94-2.06 2.06-.94-2.06-.94-.94-2.06-.94 2.06-2.06.94zm-11 1L8.5 8.5l.94-2.06 2.06-.94-2.06-.94L8.5 2.5l-.94 2.06-2.06.94zm10 10l.94 2.06.94-2.06 2.06-.94-2.06-.94-.94-2.06-.94 2.06-2.06.94z\"/><path d=\"M17.41 7.96l-1.37-1.37c-.4-.4-.92-.59-1.43-.59-.52 0-1.04.2-1.43.59L10.3 9.45l-7.72 7.72c-.78.78-.78 2.05 0 2.83L4 21.41c.39.39.9.59 1.41.59.51 0 1.02-.2 1.41-.59l7.78-7.78 2.81-2.81c.8-.78.8-2.07 0-2.86zM5.41 20L4 18.59l7.72-7.72 1.47 1.35L5.41 20z\"/>\n",
              "  </svg>\n",
              "      </button>\n",
              "      \n",
              "  <style>\n",
              "    .colab-df-container {\n",
              "      display:flex;\n",
              "      flex-wrap:wrap;\n",
              "      gap: 12px;\n",
              "    }\n",
              "\n",
              "    .colab-df-convert {\n",
              "      background-color: #E8F0FE;\n",
              "      border: none;\n",
              "      border-radius: 50%;\n",
              "      cursor: pointer;\n",
              "      display: none;\n",
              "      fill: #1967D2;\n",
              "      height: 32px;\n",
              "      padding: 0 0 0 0;\n",
              "      width: 32px;\n",
              "    }\n",
              "\n",
              "    .colab-df-convert:hover {\n",
              "      background-color: #E2EBFA;\n",
              "      box-shadow: 0px 1px 2px rgba(60, 64, 67, 0.3), 0px 1px 3px 1px rgba(60, 64, 67, 0.15);\n",
              "      fill: #174EA6;\n",
              "    }\n",
              "\n",
              "    [theme=dark] .colab-df-convert {\n",
              "      background-color: #3B4455;\n",
              "      fill: #D2E3FC;\n",
              "    }\n",
              "\n",
              "    [theme=dark] .colab-df-convert:hover {\n",
              "      background-color: #434B5C;\n",
              "      box-shadow: 0px 1px 3px 1px rgba(0, 0, 0, 0.15);\n",
              "      filter: drop-shadow(0px 1px 2px rgba(0, 0, 0, 0.3));\n",
              "      fill: #FFFFFF;\n",
              "    }\n",
              "  </style>\n",
              "\n",
              "      <script>\n",
              "        const buttonEl =\n",
              "          document.querySelector('#df-af547cd7-c2dd-4595-bcbc-547d425b7f67 button.colab-df-convert');\n",
              "        buttonEl.style.display =\n",
              "          google.colab.kernel.accessAllowed ? 'block' : 'none';\n",
              "\n",
              "        async function convertToInteractive(key) {\n",
              "          const element = document.querySelector('#df-af547cd7-c2dd-4595-bcbc-547d425b7f67');\n",
              "          const dataTable =\n",
              "            await google.colab.kernel.invokeFunction('convertToInteractive',\n",
              "                                                     [key], {});\n",
              "          if (!dataTable) return;\n",
              "\n",
              "          const docLinkHtml = 'Like what you see? Visit the ' +\n",
              "            '<a target=\"_blank\" href=https://colab.research.google.com/notebooks/data_table.ipynb>data table notebook</a>'\n",
              "            + ' to learn more about interactive tables.';\n",
              "          element.innerHTML = '';\n",
              "          dataTable['output_type'] = 'display_data';\n",
              "          await google.colab.output.renderOutput(dataTable, element);\n",
              "          const docLink = document.createElement('div');\n",
              "          docLink.innerHTML = docLinkHtml;\n",
              "          element.appendChild(docLink);\n",
              "        }\n",
              "      </script>\n",
              "    </div>\n",
              "  </div>\n",
              "  "
            ]
          },
          "metadata": {},
          "execution_count": 104
        }
      ]
    },
    {
      "cell_type": "markdown",
      "source": [
        "### **PCA**"
      ],
      "metadata": {
        "id": "yei8ZbhzrrQe"
      }
    },
    {
      "cell_type": "code",
      "source": [
        "from sklearn.decomposition import PCA"
      ],
      "metadata": {
        "id": "YqqUKX-Cqk32"
      },
      "execution_count": null,
      "outputs": []
    },
    {
      "cell_type": "code",
      "source": [
        "# pca는 스케일에 예민하므로 미리 정규화를 취해주었다.\n",
        "from sklearn.preprocessing import MinMaxScaler\n",
        "\n",
        "minmax_scaler = MinMaxScaler() \n",
        "dfsc = minmax_scaler.fit_transform(dfX.loc[:,['시정(10m)','지면온도(°C)','습도(%)','기온(°C)','현지기압(hPa)']]) # test "
      ],
      "metadata": {
        "id": "_KFQ7_0ZtqVc"
      },
      "execution_count": null,
      "outputs": []
    },
    {
      "cell_type": "code",
      "source": [
        "pca_weather = PCA()\n",
        "pca_weather.fit(dfsc)\n",
        "df_pca = pca_weather.transform(dfsc)"
      ],
      "metadata": {
        "id": "rgAm5ef5r_Nk"
      },
      "execution_count": null,
      "outputs": []
    },
    {
      "cell_type": "code",
      "source": [
        "component_names = [f\"PC{i+1}\" for i in range(dfsc.shape[1])]\n",
        "df_pca = pd.DataFrame(df_pca, columns=component_names)\n",
        "df_pca"
      ],
      "metadata": {
        "colab": {
          "base_uri": "https://localhost:8080/",
          "height": 424
        },
        "id": "6hw0XI6LsMAq",
        "outputId": "cdd5694c-b132-4469-8e05-e15ae9155e3c"
      },
      "execution_count": null,
      "outputs": [
        {
          "output_type": "execute_result",
          "data": {
            "text/plain": [
              "           PC1       PC2       PC3       PC4       PC5\n",
              "0     0.338780  0.014215  0.042060 -0.091017 -0.048049\n",
              "1     0.362339 -0.074039  0.074764 -0.071763 -0.048258\n",
              "2     0.314775 -0.089615  0.073866 -0.013563 -0.028469\n",
              "3     0.188174 -0.305543  0.054635 -0.069712 -0.009106\n",
              "4     0.292271 -0.217881 -0.037742 -0.004931 -0.031277\n",
              "...        ...       ...       ...       ...       ...\n",
              "2718  0.509706  0.188595  0.536392 -0.033045  0.044106\n",
              "2719  0.381653  0.061662  0.092025  0.020865 -0.028989\n",
              "2720  0.345769 -0.015916 -0.019943  0.028002 -0.011425\n",
              "2721  0.449413  0.126550 -0.036885  0.088159  0.021229\n",
              "2722  0.580504  0.196680  0.466822 -0.058189  0.055669\n",
              "\n",
              "[2723 rows x 5 columns]"
            ],
            "text/html": [
              "\n",
              "  <div id=\"df-942469a0-00e6-44b5-8f40-db9c31fa6791\">\n",
              "    <div class=\"colab-df-container\">\n",
              "      <div>\n",
              "<style scoped>\n",
              "    .dataframe tbody tr th:only-of-type {\n",
              "        vertical-align: middle;\n",
              "    }\n",
              "\n",
              "    .dataframe tbody tr th {\n",
              "        vertical-align: top;\n",
              "    }\n",
              "\n",
              "    .dataframe thead th {\n",
              "        text-align: right;\n",
              "    }\n",
              "</style>\n",
              "<table border=\"1\" class=\"dataframe\">\n",
              "  <thead>\n",
              "    <tr style=\"text-align: right;\">\n",
              "      <th></th>\n",
              "      <th>PC1</th>\n",
              "      <th>PC2</th>\n",
              "      <th>PC3</th>\n",
              "      <th>PC4</th>\n",
              "      <th>PC5</th>\n",
              "    </tr>\n",
              "  </thead>\n",
              "  <tbody>\n",
              "    <tr>\n",
              "      <th>0</th>\n",
              "      <td>0.338780</td>\n",
              "      <td>0.014215</td>\n",
              "      <td>0.042060</td>\n",
              "      <td>-0.091017</td>\n",
              "      <td>-0.048049</td>\n",
              "    </tr>\n",
              "    <tr>\n",
              "      <th>1</th>\n",
              "      <td>0.362339</td>\n",
              "      <td>-0.074039</td>\n",
              "      <td>0.074764</td>\n",
              "      <td>-0.071763</td>\n",
              "      <td>-0.048258</td>\n",
              "    </tr>\n",
              "    <tr>\n",
              "      <th>2</th>\n",
              "      <td>0.314775</td>\n",
              "      <td>-0.089615</td>\n",
              "      <td>0.073866</td>\n",
              "      <td>-0.013563</td>\n",
              "      <td>-0.028469</td>\n",
              "    </tr>\n",
              "    <tr>\n",
              "      <th>3</th>\n",
              "      <td>0.188174</td>\n",
              "      <td>-0.305543</td>\n",
              "      <td>0.054635</td>\n",
              "      <td>-0.069712</td>\n",
              "      <td>-0.009106</td>\n",
              "    </tr>\n",
              "    <tr>\n",
              "      <th>4</th>\n",
              "      <td>0.292271</td>\n",
              "      <td>-0.217881</td>\n",
              "      <td>-0.037742</td>\n",
              "      <td>-0.004931</td>\n",
              "      <td>-0.031277</td>\n",
              "    </tr>\n",
              "    <tr>\n",
              "      <th>...</th>\n",
              "      <td>...</td>\n",
              "      <td>...</td>\n",
              "      <td>...</td>\n",
              "      <td>...</td>\n",
              "      <td>...</td>\n",
              "    </tr>\n",
              "    <tr>\n",
              "      <th>2718</th>\n",
              "      <td>0.509706</td>\n",
              "      <td>0.188595</td>\n",
              "      <td>0.536392</td>\n",
              "      <td>-0.033045</td>\n",
              "      <td>0.044106</td>\n",
              "    </tr>\n",
              "    <tr>\n",
              "      <th>2719</th>\n",
              "      <td>0.381653</td>\n",
              "      <td>0.061662</td>\n",
              "      <td>0.092025</td>\n",
              "      <td>0.020865</td>\n",
              "      <td>-0.028989</td>\n",
              "    </tr>\n",
              "    <tr>\n",
              "      <th>2720</th>\n",
              "      <td>0.345769</td>\n",
              "      <td>-0.015916</td>\n",
              "      <td>-0.019943</td>\n",
              "      <td>0.028002</td>\n",
              "      <td>-0.011425</td>\n",
              "    </tr>\n",
              "    <tr>\n",
              "      <th>2721</th>\n",
              "      <td>0.449413</td>\n",
              "      <td>0.126550</td>\n",
              "      <td>-0.036885</td>\n",
              "      <td>0.088159</td>\n",
              "      <td>0.021229</td>\n",
              "    </tr>\n",
              "    <tr>\n",
              "      <th>2722</th>\n",
              "      <td>0.580504</td>\n",
              "      <td>0.196680</td>\n",
              "      <td>0.466822</td>\n",
              "      <td>-0.058189</td>\n",
              "      <td>0.055669</td>\n",
              "    </tr>\n",
              "  </tbody>\n",
              "</table>\n",
              "<p>2723 rows × 5 columns</p>\n",
              "</div>\n",
              "      <button class=\"colab-df-convert\" onclick=\"convertToInteractive('df-942469a0-00e6-44b5-8f40-db9c31fa6791')\"\n",
              "              title=\"Convert this dataframe to an interactive table.\"\n",
              "              style=\"display:none;\">\n",
              "        \n",
              "  <svg xmlns=\"http://www.w3.org/2000/svg\" height=\"24px\"viewBox=\"0 0 24 24\"\n",
              "       width=\"24px\">\n",
              "    <path d=\"M0 0h24v24H0V0z\" fill=\"none\"/>\n",
              "    <path d=\"M18.56 5.44l.94 2.06.94-2.06 2.06-.94-2.06-.94-.94-2.06-.94 2.06-2.06.94zm-11 1L8.5 8.5l.94-2.06 2.06-.94-2.06-.94L8.5 2.5l-.94 2.06-2.06.94zm10 10l.94 2.06.94-2.06 2.06-.94-2.06-.94-.94-2.06-.94 2.06-2.06.94z\"/><path d=\"M17.41 7.96l-1.37-1.37c-.4-.4-.92-.59-1.43-.59-.52 0-1.04.2-1.43.59L10.3 9.45l-7.72 7.72c-.78.78-.78 2.05 0 2.83L4 21.41c.39.39.9.59 1.41.59.51 0 1.02-.2 1.41-.59l7.78-7.78 2.81-2.81c.8-.78.8-2.07 0-2.86zM5.41 20L4 18.59l7.72-7.72 1.47 1.35L5.41 20z\"/>\n",
              "  </svg>\n",
              "      </button>\n",
              "      \n",
              "  <style>\n",
              "    .colab-df-container {\n",
              "      display:flex;\n",
              "      flex-wrap:wrap;\n",
              "      gap: 12px;\n",
              "    }\n",
              "\n",
              "    .colab-df-convert {\n",
              "      background-color: #E8F0FE;\n",
              "      border: none;\n",
              "      border-radius: 50%;\n",
              "      cursor: pointer;\n",
              "      display: none;\n",
              "      fill: #1967D2;\n",
              "      height: 32px;\n",
              "      padding: 0 0 0 0;\n",
              "      width: 32px;\n",
              "    }\n",
              "\n",
              "    .colab-df-convert:hover {\n",
              "      background-color: #E2EBFA;\n",
              "      box-shadow: 0px 1px 2px rgba(60, 64, 67, 0.3), 0px 1px 3px 1px rgba(60, 64, 67, 0.15);\n",
              "      fill: #174EA6;\n",
              "    }\n",
              "\n",
              "    [theme=dark] .colab-df-convert {\n",
              "      background-color: #3B4455;\n",
              "      fill: #D2E3FC;\n",
              "    }\n",
              "\n",
              "    [theme=dark] .colab-df-convert:hover {\n",
              "      background-color: #434B5C;\n",
              "      box-shadow: 0px 1px 3px 1px rgba(0, 0, 0, 0.15);\n",
              "      filter: drop-shadow(0px 1px 2px rgba(0, 0, 0, 0.3));\n",
              "      fill: #FFFFFF;\n",
              "    }\n",
              "  </style>\n",
              "\n",
              "      <script>\n",
              "        const buttonEl =\n",
              "          document.querySelector('#df-942469a0-00e6-44b5-8f40-db9c31fa6791 button.colab-df-convert');\n",
              "        buttonEl.style.display =\n",
              "          google.colab.kernel.accessAllowed ? 'block' : 'none';\n",
              "\n",
              "        async function convertToInteractive(key) {\n",
              "          const element = document.querySelector('#df-942469a0-00e6-44b5-8f40-db9c31fa6791');\n",
              "          const dataTable =\n",
              "            await google.colab.kernel.invokeFunction('convertToInteractive',\n",
              "                                                     [key], {});\n",
              "          if (!dataTable) return;\n",
              "\n",
              "          const docLinkHtml = 'Like what you see? Visit the ' +\n",
              "            '<a target=\"_blank\" href=https://colab.research.google.com/notebooks/data_table.ipynb>data table notebook</a>'\n",
              "            + ' to learn more about interactive tables.';\n",
              "          element.innerHTML = '';\n",
              "          dataTable['output_type'] = 'display_data';\n",
              "          await google.colab.output.renderOutput(dataTable, element);\n",
              "          const docLink = document.createElement('div');\n",
              "          docLink.innerHTML = docLinkHtml;\n",
              "          element.appendChild(docLink);\n",
              "        }\n",
              "      </script>\n",
              "    </div>\n",
              "  </div>\n",
              "  "
            ]
          },
          "metadata": {},
          "execution_count": 108
        }
      ]
    },
    {
      "cell_type": "code",
      "source": [
        "loadings = pd.DataFrame(\n",
        "    pca_weather.components_.T,  # transpose the matrix of loadings\n",
        "    columns=component_names,  # so the columns are the principal components\n",
        "    index=dfX.loc[:,['시정(10m)','지면온도(°C)','습도(%)','기온(°C)','현지기압(hPa)']].columns,  # and the rows are the original features\n",
        ")\n",
        "loadings"
      ],
      "metadata": {
        "colab": {
          "base_uri": "https://localhost:8080/",
          "height": 206
        },
        "id": "X-GAQ1y8si6q",
        "outputId": "5dfb7514-d80b-4419-c2fb-3837aad93d9d"
      },
      "execution_count": null,
      "outputs": [
        {
          "output_type": "execute_result",
          "data": {
            "text/plain": [
              "                PC1       PC2       PC3       PC4       PC5\n",
              "시정(10m)    0.036592  0.365917  0.911345  0.086266  0.163626\n",
              "지면온도(°C)  -0.532136  0.373487 -0.190630 -0.449258  0.582379\n",
              "습도(%)     -0.335815 -0.809393  0.353401 -0.316562  0.083707\n",
              "기온(°C)    -0.655658  0.224220  0.064779  0.004689 -0.718066\n",
              "현지기압(hPa)  0.415731  0.145674  0.063410 -0.830958 -0.333818"
            ],
            "text/html": [
              "\n",
              "  <div id=\"df-019ccd17-654b-4a39-8fa4-033b947c6e02\">\n",
              "    <div class=\"colab-df-container\">\n",
              "      <div>\n",
              "<style scoped>\n",
              "    .dataframe tbody tr th:only-of-type {\n",
              "        vertical-align: middle;\n",
              "    }\n",
              "\n",
              "    .dataframe tbody tr th {\n",
              "        vertical-align: top;\n",
              "    }\n",
              "\n",
              "    .dataframe thead th {\n",
              "        text-align: right;\n",
              "    }\n",
              "</style>\n",
              "<table border=\"1\" class=\"dataframe\">\n",
              "  <thead>\n",
              "    <tr style=\"text-align: right;\">\n",
              "      <th></th>\n",
              "      <th>PC1</th>\n",
              "      <th>PC2</th>\n",
              "      <th>PC3</th>\n",
              "      <th>PC4</th>\n",
              "      <th>PC5</th>\n",
              "    </tr>\n",
              "  </thead>\n",
              "  <tbody>\n",
              "    <tr>\n",
              "      <th>시정(10m)</th>\n",
              "      <td>0.036592</td>\n",
              "      <td>0.365917</td>\n",
              "      <td>0.911345</td>\n",
              "      <td>0.086266</td>\n",
              "      <td>0.163626</td>\n",
              "    </tr>\n",
              "    <tr>\n",
              "      <th>지면온도(°C)</th>\n",
              "      <td>-0.532136</td>\n",
              "      <td>0.373487</td>\n",
              "      <td>-0.190630</td>\n",
              "      <td>-0.449258</td>\n",
              "      <td>0.582379</td>\n",
              "    </tr>\n",
              "    <tr>\n",
              "      <th>습도(%)</th>\n",
              "      <td>-0.335815</td>\n",
              "      <td>-0.809393</td>\n",
              "      <td>0.353401</td>\n",
              "      <td>-0.316562</td>\n",
              "      <td>0.083707</td>\n",
              "    </tr>\n",
              "    <tr>\n",
              "      <th>기온(°C)</th>\n",
              "      <td>-0.655658</td>\n",
              "      <td>0.224220</td>\n",
              "      <td>0.064779</td>\n",
              "      <td>0.004689</td>\n",
              "      <td>-0.718066</td>\n",
              "    </tr>\n",
              "    <tr>\n",
              "      <th>현지기압(hPa)</th>\n",
              "      <td>0.415731</td>\n",
              "      <td>0.145674</td>\n",
              "      <td>0.063410</td>\n",
              "      <td>-0.830958</td>\n",
              "      <td>-0.333818</td>\n",
              "    </tr>\n",
              "  </tbody>\n",
              "</table>\n",
              "</div>\n",
              "      <button class=\"colab-df-convert\" onclick=\"convertToInteractive('df-019ccd17-654b-4a39-8fa4-033b947c6e02')\"\n",
              "              title=\"Convert this dataframe to an interactive table.\"\n",
              "              style=\"display:none;\">\n",
              "        \n",
              "  <svg xmlns=\"http://www.w3.org/2000/svg\" height=\"24px\"viewBox=\"0 0 24 24\"\n",
              "       width=\"24px\">\n",
              "    <path d=\"M0 0h24v24H0V0z\" fill=\"none\"/>\n",
              "    <path d=\"M18.56 5.44l.94 2.06.94-2.06 2.06-.94-2.06-.94-.94-2.06-.94 2.06-2.06.94zm-11 1L8.5 8.5l.94-2.06 2.06-.94-2.06-.94L8.5 2.5l-.94 2.06-2.06.94zm10 10l.94 2.06.94-2.06 2.06-.94-2.06-.94-.94-2.06-.94 2.06-2.06.94z\"/><path d=\"M17.41 7.96l-1.37-1.37c-.4-.4-.92-.59-1.43-.59-.52 0-1.04.2-1.43.59L10.3 9.45l-7.72 7.72c-.78.78-.78 2.05 0 2.83L4 21.41c.39.39.9.59 1.41.59.51 0 1.02-.2 1.41-.59l7.78-7.78 2.81-2.81c.8-.78.8-2.07 0-2.86zM5.41 20L4 18.59l7.72-7.72 1.47 1.35L5.41 20z\"/>\n",
              "  </svg>\n",
              "      </button>\n",
              "      \n",
              "  <style>\n",
              "    .colab-df-container {\n",
              "      display:flex;\n",
              "      flex-wrap:wrap;\n",
              "      gap: 12px;\n",
              "    }\n",
              "\n",
              "    .colab-df-convert {\n",
              "      background-color: #E8F0FE;\n",
              "      border: none;\n",
              "      border-radius: 50%;\n",
              "      cursor: pointer;\n",
              "      display: none;\n",
              "      fill: #1967D2;\n",
              "      height: 32px;\n",
              "      padding: 0 0 0 0;\n",
              "      width: 32px;\n",
              "    }\n",
              "\n",
              "    .colab-df-convert:hover {\n",
              "      background-color: #E2EBFA;\n",
              "      box-shadow: 0px 1px 2px rgba(60, 64, 67, 0.3), 0px 1px 3px 1px rgba(60, 64, 67, 0.15);\n",
              "      fill: #174EA6;\n",
              "    }\n",
              "\n",
              "    [theme=dark] .colab-df-convert {\n",
              "      background-color: #3B4455;\n",
              "      fill: #D2E3FC;\n",
              "    }\n",
              "\n",
              "    [theme=dark] .colab-df-convert:hover {\n",
              "      background-color: #434B5C;\n",
              "      box-shadow: 0px 1px 3px 1px rgba(0, 0, 0, 0.15);\n",
              "      filter: drop-shadow(0px 1px 2px rgba(0, 0, 0, 0.3));\n",
              "      fill: #FFFFFF;\n",
              "    }\n",
              "  </style>\n",
              "\n",
              "      <script>\n",
              "        const buttonEl =\n",
              "          document.querySelector('#df-019ccd17-654b-4a39-8fa4-033b947c6e02 button.colab-df-convert');\n",
              "        buttonEl.style.display =\n",
              "          google.colab.kernel.accessAllowed ? 'block' : 'none';\n",
              "\n",
              "        async function convertToInteractive(key) {\n",
              "          const element = document.querySelector('#df-019ccd17-654b-4a39-8fa4-033b947c6e02');\n",
              "          const dataTable =\n",
              "            await google.colab.kernel.invokeFunction('convertToInteractive',\n",
              "                                                     [key], {});\n",
              "          if (!dataTable) return;\n",
              "\n",
              "          const docLinkHtml = 'Like what you see? Visit the ' +\n",
              "            '<a target=\"_blank\" href=https://colab.research.google.com/notebooks/data_table.ipynb>data table notebook</a>'\n",
              "            + ' to learn more about interactive tables.';\n",
              "          element.innerHTML = '';\n",
              "          dataTable['output_type'] = 'display_data';\n",
              "          await google.colab.output.renderOutput(dataTable, element);\n",
              "          const docLink = document.createElement('div');\n",
              "          docLink.innerHTML = docLinkHtml;\n",
              "          element.appendChild(docLink);\n",
              "        }\n",
              "      </script>\n",
              "    </div>\n",
              "  </div>\n",
              "  "
            ]
          },
          "metadata": {},
          "execution_count": 109
        }
      ]
    },
    {
      "cell_type": "code",
      "source": [
        "def plot_variance(pca, width=8, dpi=100):\n",
        "    # Create figure\n",
        "    # fig, axs = plt.subplots(1, 1)\n",
        "    n = pca.n_components_\n",
        "    grid = np.arange(1, n + 1)\n",
        "    # Explained variance\n",
        "    evr = pca.explained_variance_ratio_\n",
        "    plt.figure(figsize=(10,8),dpi=100)\n",
        "    plt.bar(grid, evr,color='steelblue')\n",
        "    plt.xlabel(\"Component\")\n",
        "    plt.title(\"% Explained Variance\")\n",
        "    plt.ylim(0.0, 1.0)\n",
        "    \n",
        "    plt.tick_params(direction='in')\n",
        "    # # Cumulative Variance\n",
        "    # cv = np.cumsum(evr)\n",
        "    # axs[1].plot(np.r_[0, grid], np.r_[0, cv], \"o-\")\n",
        "    # axs[1].set(\n",
        "    #     xlabel=\"Component\", title=\"% Cumulative Variance\", ylim=(0.0, 1.0)\n",
        "    # )\n",
        "    # Set up figure\n",
        "    # plt.figure(figsize=(10,8),dpi=600)\n",
        "    plt.show()"
      ],
      "metadata": {
        "id": "AoOBJH1BuIfo"
      },
      "execution_count": null,
      "outputs": []
    },
    {
      "cell_type": "code",
      "source": [
        "plot_variance(pca_weather)"
      ],
      "metadata": {
        "colab": {
          "base_uri": "https://localhost:8080/",
          "height": 700
        },
        "id": "qiwIIPd3tQV9",
        "outputId": "c3d5cebb-260e-4735-fa7a-7b393539757f"
      },
      "execution_count": null,
      "outputs": [
        {
          "output_type": "display_data",
          "data": {
            "text/plain": [
              "<Figure size 1000x800 with 1 Axes>"
            ],
            "image/png": "[encoded data removed]"
          },
          "metadata": {
            "needs_background": "light"
          }
        }
      ]
    },
    {
      "cell_type": "code",
      "source": [
        "df_pca = pd.DataFrame(df_pca, columns=component_names)"
      ],
      "metadata": {
        "id": "cdSHHmTNubU9"
      },
      "execution_count": null,
      "outputs": []
    },
    {
      "cell_type": "code",
      "source": [
        "df_one.index = range(len(df_one))"
      ],
      "metadata": {
        "id": "WSL9TcH8xYrL"
      },
      "execution_count": null,
      "outputs": []
    },
    {
      "cell_type": "code",
      "source": [
        "df_one.loc[:,'weather1'] = df_pca['PC1']\n",
        "df_one.loc[:,'weather2'] = df_pca['PC2']"
      ],
      "metadata": {
        "id": "B4EP05q9ubTQ"
      },
      "execution_count": null,
      "outputs": []
    },
    {
      "cell_type": "code",
      "source": [
        "df_one.pop('시정(10m)')\n",
        "df_one.pop('지면온도(°C)')\n",
        "df_one.pop('습도(%)')\n",
        "df_one.pop('기온(°C)')\n",
        "df_one.pop('현지기압(hPa)')"
      ],
      "metadata": {
        "colab": {
          "base_uri": "https://localhost:8080/"
        },
        "id": "HO2aGlhEubPH",
        "outputId": "b054f073-cc96-4814-f90f-bc268005ac00"
      },
      "execution_count": null,
      "outputs": [
        {
          "output_type": "execute_result",
          "data": {
            "text/plain": [
              "0       1024.6\n",
              "1       1023.7\n",
              "2       1019.6\n",
              "3       1017.2\n",
              "4       1017.4\n",
              "         ...  \n",
              "2718    1027.2\n",
              "2719    1020.8\n",
              "2720    1018.4\n",
              "2721    1018.5\n",
              "2722    1029.5\n",
              "Name: 현지기압(hPa), Length: 2723, dtype: float64"
            ]
          },
          "metadata": {},
          "execution_count": 115
        }
      ]
    },
    {
      "cell_type": "code",
      "source": [
        "df_one"
      ],
      "metadata": {
        "colab": {
          "base_uri": "https://localhost:8080/",
          "height": 1000
        },
        "id": "twCRPmZQubNm",
        "outputId": "1eb20215-14b9-4483-819a-386e53a4a94e"
      },
      "execution_count": null,
      "outputs": [
        {
          "output_type": "execute_result",
          "data": {
            "text/plain": [
              "                       일시 주말/공휴일  사고내용         도로형태 가해운전자 차종 가해운전자 성별  \\\n",
              "0     2017-01-01 15:00:00      1     0      기타 - 기타       승용        남   \n",
              "1     2017-01-01 18:00:00      1     1     단일로 - 기타       승용        남   \n",
              "2     2017-01-01 21:00:00      1     1   교차로 - 교차로안       승용        남   \n",
              "3     2017-01-02 10:00:00      0     0   교차로 - 교차로안       승용        남   \n",
              "4     2017-01-03 21:00:00      0     0     단일로 - 기타       승용        남   \n",
              "...                   ...    ...   ...          ...      ...      ...   \n",
              "2718  2021-12-28 12:00:00      0     0  교차로 - 교차로부근       승용        남   \n",
              "2719  2021-12-29 11:00:00      0     0     단일로 - 기타       승용        여   \n",
              "2720  2021-12-29 14:00:00      0     0     단일로 - 기타       승용        여   \n",
              "2721  2021-12-30 12:00:00      0     0     단일로 - 기타       승용        남   \n",
              "2722  2021-12-31 12:00:00      0     0     단일로 - 기타       승용        남   \n",
              "\n",
              "      가해운전자 연령    시   읍면동  풍속(m/s)  비  눈 도로상태  사고유형2 사고유형1  weather1  weather2  \n",
              "0           29   제주   애월읍      3.4  0  0   건조     기타   차대차  0.338780  0.014215  \n",
              "1           42   제주   제주시      1.4  0  0   건조  차도통행중  차대사람  0.362339 -0.074039  \n",
              "2           47  서귀포   남원읍      0.7  0  0   건조   전도전복  차량단독  0.314775 -0.089615  \n",
              "3           24  서귀포   성산읍      0.2  1  0   건조   측면충돌   차대차  0.188174 -0.305543  \n",
              "4           20  서귀포   성산읍      1.1  0  0   건조  공작물충돌  차량단독  0.292271 -0.217881  \n",
              "...        ...  ...   ...      ... .. ..  ...    ...   ...       ...       ...  \n",
              "2718        57   제주   제주시      2.5  0  1   건조    횡단중  차대사람  0.509706  0.188595  \n",
              "2719        21   제주   제주시      5.4  1  0   건조    횡단중  차대사람  0.381653  0.061662  \n",
              "2720        22   제주   한림읍      5.7  1  0   건조   측면충돌   차대차  0.345769 -0.015916  \n",
              "2721        22  서귀포  서귀포시      3.7  1  0   건조     기타   차대차  0.449413  0.126550  \n",
              "2722        28   제주   애월읍      4.9  1  0   건조     기타   차대차  0.580504  0.196680  \n",
              "\n",
              "[2723 rows x 17 columns]"
            ],
            "text/html": [
              "\n",
              "  <div id=\"df-ae6b1e0c-9952-41e6-85f4-31f6b26cb941\">\n",
              "    <div class=\"colab-df-container\">\n",
              "      <div>\n",
              "<style scoped>\n",
              "    .dataframe tbody tr th:only-of-type {\n",
              "        vertical-align: middle;\n",
              "    }\n",
              "\n",
              "    .dataframe tbody tr th {\n",
              "        vertical-align: top;\n",
              "    }\n",
              "\n",
              "    .dataframe thead th {\n",
              "        text-align: right;\n",
              "    }\n",
              "</style>\n",
              "<table border=\"1\" class=\"dataframe\">\n",
              "  <thead>\n",
              "    <tr style=\"text-align: right;\">\n",
              "      <th></th>\n",
              "      <th>일시</th>\n",
              "      <th>주말/공휴일</th>\n",
              "      <th>사고내용</th>\n",
              "      <th>도로형태</th>\n",
              "      <th>가해운전자 차종</th>\n",
              "      <th>가해운전자 성별</th>\n",
              "      <th>가해운전자 연령</th>\n",
              "      <th>시</th>\n",
              "      <th>읍면동</th>\n",
              "      <th>풍속(m/s)</th>\n",
              "      <th>비</th>\n",
              "      <th>눈</th>\n",
              "      <th>도로상태</th>\n",
              "      <th>사고유형2</th>\n",
              "      <th>사고유형1</th>\n",
              "      <th>weather1</th>\n",
              "      <th>weather2</th>\n",
              "    </tr>\n",
              "  </thead>\n",
              "  <tbody>\n",
              "    <tr>\n",
              "      <th>0</th>\n",
              "      <td>2017-01-01 15:00:00</td>\n",
              "      <td>1</td>\n",
              "      <td>0</td>\n",
              "      <td>기타 - 기타</td>\n",
              "      <td>승용</td>\n",
              "      <td>남</td>\n",
              "      <td>29</td>\n",
              "      <td>제주</td>\n",
              "      <td>애월읍</td>\n",
              "      <td>3.4</td>\n",
              "      <td>0</td>\n",
              "      <td>0</td>\n",
              "      <td>건조</td>\n",
              "      <td>기타</td>\n",
              "      <td>차대차</td>\n",
              "      <td>0.338780</td>\n",
              "      <td>0.014215</td>\n",
              "    </tr>\n",
              "    <tr>\n",
              "      <th>1</th>\n",
              "      <td>2017-01-01 18:00:00</td>\n",
              "      <td>1</td>\n",
              "      <td>1</td>\n",
              "      <td>단일로 - 기타</td>\n",
              "      <td>승용</td>\n",
              "      <td>남</td>\n",
              "      <td>42</td>\n",
              "      <td>제주</td>\n",
              "      <td>제주시</td>\n",
              "      <td>1.4</td>\n",
              "      <td>0</td>\n",
              "      <td>0</td>\n",
              "      <td>건조</td>\n",
              "      <td>차도통행중</td>\n",
              "      <td>차대사람</td>\n",
              "      <td>0.362339</td>\n",
              "      <td>-0.074039</td>\n",
              "    </tr>\n",
              "    <tr>\n",
              "      <th>2</th>\n",
              "      <td>2017-01-01 21:00:00</td>\n",
              "      <td>1</td>\n",
              "      <td>1</td>\n",
              "      <td>교차로 - 교차로안</td>\n",
              "      <td>승용</td>\n",
              "      <td>남</td>\n",
              "      <td>47</td>\n",
              "      <td>서귀포</td>\n",
              "      <td>남원읍</td>\n",
              "      <td>0.7</td>\n",
              "      <td>0</td>\n",
              "      <td>0</td>\n",
              "      <td>건조</td>\n",
              "      <td>전도전복</td>\n",
              "      <td>차량단독</td>\n",
              "      <td>0.314775</td>\n",
              "      <td>-0.089615</td>\n",
              "    </tr>\n",
              "    <tr>\n",
              "      <th>3</th>\n",
              "      <td>2017-01-02 10:00:00</td>\n",
              "      <td>0</td>\n",
              "      <td>0</td>\n",
              "      <td>교차로 - 교차로안</td>\n",
              "      <td>승용</td>\n",
              "      <td>남</td>\n",
              "      <td>24</td>\n",
              "      <td>서귀포</td>\n",
              "      <td>성산읍</td>\n",
              "      <td>0.2</td>\n",
              "      <td>1</td>\n",
              "      <td>0</td>\n",
              "      <td>건조</td>\n",
              "      <td>측면충돌</td>\n",
              "      <td>차대차</td>\n",
              "      <td>0.188174</td>\n",
              "      <td>-0.305543</td>\n",
              "    </tr>\n",
              "    <tr>\n",
              "      <th>4</th>\n",
              "      <td>2017-01-03 21:00:00</td>\n",
              "      <td>0</td>\n",
              "      <td>0</td>\n",
              "      <td>단일로 - 기타</td>\n",
              "      <td>승용</td>\n",
              "      <td>남</td>\n",
              "      <td>20</td>\n",
              "      <td>서귀포</td>\n",
              "      <td>성산읍</td>\n",
              "      <td>1.1</td>\n",
              "      <td>0</td>\n",
              "      <td>0</td>\n",
              "      <td>건조</td>\n",
              "      <td>공작물충돌</td>\n",
              "      <td>차량단독</td>\n",
              "      <td>0.292271</td>\n",
              "      <td>-0.217881</td>\n",
              "    </tr>\n",
              "    <tr>\n",
              "      <th>...</th>\n",
              "      <td>...</td>\n",
              "      <td>...</td>\n",
              "      <td>...</td>\n",
              "      <td>...</td>\n",
              "      <td>...</td>\n",
              "      <td>...</td>\n",
              "      <td>...</td>\n",
              "      <td>...</td>\n",
              "      <td>...</td>\n",
              "      <td>...</td>\n",
              "      <td>...</td>\n",
              "      <td>...</td>\n",
              "      <td>...</td>\n",
              "      <td>...</td>\n",
              "      <td>...</td>\n",
              "      <td>...</td>\n",
              "      <td>...</td>\n",
              "    </tr>\n",
              "    <tr>\n",
              "      <th>2718</th>\n",
              "      <td>2021-12-28 12:00:00</td>\n",
              "      <td>0</td>\n",
              "      <td>0</td>\n",
              "      <td>교차로 - 교차로부근</td>\n",
              "      <td>승용</td>\n",
              "      <td>남</td>\n",
              "      <td>57</td>\n",
              "      <td>제주</td>\n",
              "      <td>제주시</td>\n",
              "      <td>2.5</td>\n",
              "      <td>0</td>\n",
              "      <td>1</td>\n",
              "      <td>건조</td>\n",
              "      <td>횡단중</td>\n",
              "      <td>차대사람</td>\n",
              "      <td>0.509706</td>\n",
              "      <td>0.188595</td>\n",
              "    </tr>\n",
              "    <tr>\n",
              "      <th>2719</th>\n",
              "      <td>2021-12-29 11:00:00</td>\n",
              "      <td>0</td>\n",
              "      <td>0</td>\n",
              "      <td>단일로 - 기타</td>\n",
              "      <td>승용</td>\n",
              "      <td>여</td>\n",
              "      <td>21</td>\n",
              "      <td>제주</td>\n",
              "      <td>제주시</td>\n",
              "      <td>5.4</td>\n",
              "      <td>1</td>\n",
              "      <td>0</td>\n",
              "      <td>건조</td>\n",
              "      <td>횡단중</td>\n",
              "      <td>차대사람</td>\n",
              "      <td>0.381653</td>\n",
              "      <td>0.061662</td>\n",
              "    </tr>\n",
              "    <tr>\n",
              "      <th>2720</th>\n",
              "      <td>2021-12-29 14:00:00</td>\n",
              "      <td>0</td>\n",
              "      <td>0</td>\n",
              "      <td>단일로 - 기타</td>\n",
              "      <td>승용</td>\n",
              "      <td>여</td>\n",
              "      <td>22</td>\n",
              "      <td>제주</td>\n",
              "      <td>한림읍</td>\n",
              "      <td>5.7</td>\n",
              "      <td>1</td>\n",
              "      <td>0</td>\n",
              "      <td>건조</td>\n",
              "      <td>측면충돌</td>\n",
              "      <td>차대차</td>\n",
              "      <td>0.345769</td>\n",
              "      <td>-0.015916</td>\n",
              "    </tr>\n",
              "    <tr>\n",
              "      <th>2721</th>\n",
              "      <td>2021-12-30 12:00:00</td>\n",
              "      <td>0</td>\n",
              "      <td>0</td>\n",
              "      <td>단일로 - 기타</td>\n",
              "      <td>승용</td>\n",
              "      <td>남</td>\n",
              "      <td>22</td>\n",
              "      <td>서귀포</td>\n",
              "      <td>서귀포시</td>\n",
              "      <td>3.7</td>\n",
              "      <td>1</td>\n",
              "      <td>0</td>\n",
              "      <td>건조</td>\n",
              "      <td>기타</td>\n",
              "      <td>차대차</td>\n",
              "      <td>0.449413</td>\n",
              "      <td>0.126550</td>\n",
              "    </tr>\n",
              "    <tr>\n",
              "      <th>2722</th>\n",
              "      <td>2021-12-31 12:00:00</td>\n",
              "      <td>0</td>\n",
              "      <td>0</td>\n",
              "      <td>단일로 - 기타</td>\n",
              "      <td>승용</td>\n",
              "      <td>남</td>\n",
              "      <td>28</td>\n",
              "      <td>제주</td>\n",
              "      <td>애월읍</td>\n",
              "      <td>4.9</td>\n",
              "      <td>1</td>\n",
              "      <td>0</td>\n",
              "      <td>건조</td>\n",
              "      <td>기타</td>\n",
              "      <td>차대차</td>\n",
              "      <td>0.580504</td>\n",
              "      <td>0.196680</td>\n",
              "    </tr>\n",
              "  </tbody>\n",
              "</table>\n",
              "<p>2723 rows × 17 columns</p>\n",
              "</div>\n",
              "      <button class=\"colab-df-convert\" onclick=\"convertToInteractive('df-ae6b1e0c-9952-41e6-85f4-31f6b26cb941')\"\n",
              "              title=\"Convert this dataframe to an interactive table.\"\n",
              "              style=\"display:none;\">\n",
              "        \n",
              "  <svg xmlns=\"http://www.w3.org/2000/svg\" height=\"24px\"viewBox=\"0 0 24 24\"\n",
              "       width=\"24px\">\n",
              "    <path d=\"M0 0h24v24H0V0z\" fill=\"none\"/>\n",
              "    <path d=\"M18.56 5.44l.94 2.06.94-2.06 2.06-.94-2.06-.94-.94-2.06-.94 2.06-2.06.94zm-11 1L8.5 8.5l.94-2.06 2.06-.94-2.06-.94L8.5 2.5l-.94 2.06-2.06.94zm10 10l.94 2.06.94-2.06 2.06-.94-2.06-.94-.94-2.06-.94 2.06-2.06.94z\"/><path d=\"M17.41 7.96l-1.37-1.37c-.4-.4-.92-.59-1.43-.59-.52 0-1.04.2-1.43.59L10.3 9.45l-7.72 7.72c-.78.78-.78 2.05 0 2.83L4 21.41c.39.39.9.59 1.41.59.51 0 1.02-.2 1.41-.59l7.78-7.78 2.81-2.81c.8-.78.8-2.07 0-2.86zM5.41 20L4 18.59l7.72-7.72 1.47 1.35L5.41 20z\"/>\n",
              "  </svg>\n",
              "      </button>\n",
              "      \n",
              "  <style>\n",
              "    .colab-df-container {\n",
              "      display:flex;\n",
              "      flex-wrap:wrap;\n",
              "      gap: 12px;\n",
              "    }\n",
              "\n",
              "    .colab-df-convert {\n",
              "      background-color: #E8F0FE;\n",
              "      border: none;\n",
              "      border-radius: 50%;\n",
              "      cursor: pointer;\n",
              "      display: none;\n",
              "      fill: #1967D2;\n",
              "      height: 32px;\n",
              "      padding: 0 0 0 0;\n",
              "      width: 32px;\n",
              "    }\n",
              "\n",
              "    .colab-df-convert:hover {\n",
              "      background-color: #E2EBFA;\n",
              "      box-shadow: 0px 1px 2px rgba(60, 64, 67, 0.3), 0px 1px 3px 1px rgba(60, 64, 67, 0.15);\n",
              "      fill: #174EA6;\n",
              "    }\n",
              "\n",
              "    [theme=dark] .colab-df-convert {\n",
              "      background-color: #3B4455;\n",
              "      fill: #D2E3FC;\n",
              "    }\n",
              "\n",
              "    [theme=dark] .colab-df-convert:hover {\n",
              "      background-color: #434B5C;\n",
              "      box-shadow: 0px 1px 3px 1px rgba(0, 0, 0, 0.15);\n",
              "      filter: drop-shadow(0px 1px 2px rgba(0, 0, 0, 0.3));\n",
              "      fill: #FFFFFF;\n",
              "    }\n",
              "  </style>\n",
              "\n",
              "      <script>\n",
              "        const buttonEl =\n",
              "          document.querySelector('#df-ae6b1e0c-9952-41e6-85f4-31f6b26cb941 button.colab-df-convert');\n",
              "        buttonEl.style.display =\n",
              "          google.colab.kernel.accessAllowed ? 'block' : 'none';\n",
              "\n",
              "        async function convertToInteractive(key) {\n",
              "          const element = document.querySelector('#df-ae6b1e0c-9952-41e6-85f4-31f6b26cb941');\n",
              "          const dataTable =\n",
              "            await google.colab.kernel.invokeFunction('convertToInteractive',\n",
              "                                                     [key], {});\n",
              "          if (!dataTable) return;\n",
              "\n",
              "          const docLinkHtml = 'Like what you see? Visit the ' +\n",
              "            '<a target=\"_blank\" href=https://colab.research.google.com/notebooks/data_table.ipynb>data table notebook</a>'\n",
              "            + ' to learn more about interactive tables.';\n",
              "          element.innerHTML = '';\n",
              "          dataTable['output_type'] = 'display_data';\n",
              "          await google.colab.output.renderOutput(dataTable, element);\n",
              "          const docLink = document.createElement('div');\n",
              "          docLink.innerHTML = docLinkHtml;\n",
              "          element.appendChild(docLink);\n",
              "        }\n",
              "      </script>\n",
              "    </div>\n",
              "  </div>\n",
              "  "
            ]
          },
          "metadata": {},
          "execution_count": 116
        }
      ]
    },
    {
      "cell_type": "code",
      "source": [],
      "metadata": {
        "id": "vhghOZBOuLGu"
      },
      "execution_count": null,
      "outputs": []
    },
    {
      "cell_type": "markdown",
      "source": [
        "# **최종데이터**"
      ],
      "metadata": {
        "id": "N7F0XEJ1rhhP"
      }
    },
    {
      "cell_type": "code",
      "source": [
        "df_one\n"
      ],
      "metadata": {
        "colab": {
          "base_uri": "https://localhost:8080/",
          "height": 1000
        },
        "id": "Asmbg1Qo0y_O",
        "outputId": "cbb1e3f8-324f-4e7f-b950-f3bfb3101cb0"
      },
      "execution_count": null,
      "outputs": [
        {
          "output_type": "execute_result",
          "data": {
            "text/plain": [
              "                       일시 주말/공휴일  사고내용         도로형태 가해운전자 차종 가해운전자 성별  \\\n",
              "0     2017-01-01 15:00:00      1     0      기타 - 기타       승용        남   \n",
              "1     2017-01-01 18:00:00      1     1     단일로 - 기타       승용        남   \n",
              "2     2017-01-01 21:00:00      1     1   교차로 - 교차로안       승용        남   \n",
              "3     2017-01-02 10:00:00      0     0   교차로 - 교차로안       승용        남   \n",
              "4     2017-01-03 21:00:00      0     0     단일로 - 기타       승용        남   \n",
              "...                   ...    ...   ...          ...      ...      ...   \n",
              "2718  2021-12-28 12:00:00      0     0  교차로 - 교차로부근       승용        남   \n",
              "2719  2021-12-29 11:00:00      0     0     단일로 - 기타       승용        여   \n",
              "2720  2021-12-29 14:00:00      0     0     단일로 - 기타       승용        여   \n",
              "2721  2021-12-30 12:00:00      0     0     단일로 - 기타       승용        남   \n",
              "2722  2021-12-31 12:00:00      0     0     단일로 - 기타       승용        남   \n",
              "\n",
              "      가해운전자 연령    시   읍면동  풍속(m/s)  비  눈 도로상태  사고유형2 사고유형1  weather1  weather2  \n",
              "0           29   제주   애월읍      3.4  0  0   건조     기타   차대차  0.338780  0.014215  \n",
              "1           42   제주   제주시      1.4  0  0   건조  차도통행중  차대사람  0.362339 -0.074039  \n",
              "2           47  서귀포   남원읍      0.7  0  0   건조   전도전복  차량단독  0.314775 -0.089615  \n",
              "3           24  서귀포   성산읍      0.2  1  0   건조   측면충돌   차대차  0.188174 -0.305543  \n",
              "4           20  서귀포   성산읍      1.1  0  0   건조  공작물충돌  차량단독  0.292271 -0.217881  \n",
              "...        ...  ...   ...      ... .. ..  ...    ...   ...       ...       ...  \n",
              "2718        57   제주   제주시      2.5  0  1   건조    횡단중  차대사람  0.509706  0.188595  \n",
              "2719        21   제주   제주시      5.4  1  0   건조    횡단중  차대사람  0.381653  0.061662  \n",
              "2720        22   제주   한림읍      5.7  1  0   건조   측면충돌   차대차  0.345769 -0.015916  \n",
              "2721        22  서귀포  서귀포시      3.7  1  0   건조     기타   차대차  0.449413  0.126550  \n",
              "2722        28   제주   애월읍      4.9  1  0   건조     기타   차대차  0.580504  0.196680  \n",
              "\n",
              "[2723 rows x 17 columns]"
            ],
            "text/html": [
              "\n",
              "  <div id=\"df-b9509497-1733-454a-93bd-e3fb71558049\">\n",
              "    <div class=\"colab-df-container\">\n",
              "      <div>\n",
              "<style scoped>\n",
              "    .dataframe tbody tr th:only-of-type {\n",
              "        vertical-align: middle;\n",
              "    }\n",
              "\n",
              "    .dataframe tbody tr th {\n",
              "        vertical-align: top;\n",
              "    }\n",
              "\n",
              "    .dataframe thead th {\n",
              "        text-align: right;\n",
              "    }\n",
              "</style>\n",
              "<table border=\"1\" class=\"dataframe\">\n",
              "  <thead>\n",
              "    <tr style=\"text-align: right;\">\n",
              "      <th></th>\n",
              "      <th>일시</th>\n",
              "      <th>주말/공휴일</th>\n",
              "      <th>사고내용</th>\n",
              "      <th>도로형태</th>\n",
              "      <th>가해운전자 차종</th>\n",
              "      <th>가해운전자 성별</th>\n",
              "      <th>가해운전자 연령</th>\n",
              "      <th>시</th>\n",
              "      <th>읍면동</th>\n",
              "      <th>풍속(m/s)</th>\n",
              "      <th>비</th>\n",
              "      <th>눈</th>\n",
              "      <th>도로상태</th>\n",
              "      <th>사고유형2</th>\n",
              "      <th>사고유형1</th>\n",
              "      <th>weather1</th>\n",
              "      <th>weather2</th>\n",
              "    </tr>\n",
              "  </thead>\n",
              "  <tbody>\n",
              "    <tr>\n",
              "      <th>0</th>\n",
              "      <td>2017-01-01 15:00:00</td>\n",
              "      <td>1</td>\n",
              "      <td>0</td>\n",
              "      <td>기타 - 기타</td>\n",
              "      <td>승용</td>\n",
              "      <td>남</td>\n",
              "      <td>29</td>\n",
              "      <td>제주</td>\n",
              "      <td>애월읍</td>\n",
              "      <td>3.4</td>\n",
              "      <td>0</td>\n",
              "      <td>0</td>\n",
              "      <td>건조</td>\n",
              "      <td>기타</td>\n",
              "      <td>차대차</td>\n",
              "      <td>0.338780</td>\n",
              "      <td>0.014215</td>\n",
              "    </tr>\n",
              "    <tr>\n",
              "      <th>1</th>\n",
              "      <td>2017-01-01 18:00:00</td>\n",
              "      <td>1</td>\n",
              "      <td>1</td>\n",
              "      <td>단일로 - 기타</td>\n",
              "      <td>승용</td>\n",
              "      <td>남</td>\n",
              "      <td>42</td>\n",
              "      <td>제주</td>\n",
              "      <td>제주시</td>\n",
              "      <td>1.4</td>\n",
              "      <td>0</td>\n",
              "      <td>0</td>\n",
              "      <td>건조</td>\n",
              "      <td>차도통행중</td>\n",
              "      <td>차대사람</td>\n",
              "      <td>0.362339</td>\n",
              "      <td>-0.074039</td>\n",
              "    </tr>\n",
              "    <tr>\n",
              "      <th>2</th>\n",
              "      <td>2017-01-01 21:00:00</td>\n",
              "      <td>1</td>\n",
              "      <td>1</td>\n",
              "      <td>교차로 - 교차로안</td>\n",
              "      <td>승용</td>\n",
              "      <td>남</td>\n",
              "      <td>47</td>\n",
              "      <td>서귀포</td>\n",
              "      <td>남원읍</td>\n",
              "      <td>0.7</td>\n",
              "      <td>0</td>\n",
              "      <td>0</td>\n",
              "      <td>건조</td>\n",
              "      <td>전도전복</td>\n",
              "      <td>차량단독</td>\n",
              "      <td>0.314775</td>\n",
              "      <td>-0.089615</td>\n",
              "    </tr>\n",
              "    <tr>\n",
              "      <th>3</th>\n",
              "      <td>2017-01-02 10:00:00</td>\n",
              "      <td>0</td>\n",
              "      <td>0</td>\n",
              "      <td>교차로 - 교차로안</td>\n",
              "      <td>승용</td>\n",
              "      <td>남</td>\n",
              "      <td>24</td>\n",
              "      <td>서귀포</td>\n",
              "      <td>성산읍</td>\n",
              "      <td>0.2</td>\n",
              "      <td>1</td>\n",
              "      <td>0</td>\n",
              "      <td>건조</td>\n",
              "      <td>측면충돌</td>\n",
              "      <td>차대차</td>\n",
              "      <td>0.188174</td>\n",
              "      <td>-0.305543</td>\n",
              "    </tr>\n",
              "    <tr>\n",
              "      <th>4</th>\n",
              "      <td>2017-01-03 21:00:00</td>\n",
              "      <td>0</td>\n",
              "      <td>0</td>\n",
              "      <td>단일로 - 기타</td>\n",
              "      <td>승용</td>\n",
              "      <td>남</td>\n",
              "      <td>20</td>\n",
              "      <td>서귀포</td>\n",
              "      <td>성산읍</td>\n",
              "      <td>1.1</td>\n",
              "      <td>0</td>\n",
              "      <td>0</td>\n",
              "      <td>건조</td>\n",
              "      <td>공작물충돌</td>\n",
              "      <td>차량단독</td>\n",
              "      <td>0.292271</td>\n",
              "      <td>-0.217881</td>\n",
              "    </tr>\n",
              "    <tr>\n",
              "      <th>...</th>\n",
              "      <td>...</td>\n",
              "      <td>...</td>\n",
              "      <td>...</td>\n",
              "      <td>...</td>\n",
              "      <td>...</td>\n",
              "      <td>...</td>\n",
              "      <td>...</td>\n",
              "      <td>...</td>\n",
              "      <td>...</td>\n",
              "      <td>...</td>\n",
              "      <td>...</td>\n",
              "      <td>...</td>\n",
              "      <td>...</td>\n",
              "      <td>...</td>\n",
              "      <td>...</td>\n",
              "      <td>...</td>\n",
              "      <td>...</td>\n",
              "    </tr>\n",
              "    <tr>\n",
              "      <th>2718</th>\n",
              "      <td>2021-12-28 12:00:00</td>\n",
              "      <td>0</td>\n",
              "      <td>0</td>\n",
              "      <td>교차로 - 교차로부근</td>\n",
              "      <td>승용</td>\n",
              "      <td>남</td>\n",
              "      <td>57</td>\n",
              "      <td>제주</td>\n",
              "      <td>제주시</td>\n",
              "      <td>2.5</td>\n",
              "      <td>0</td>\n",
              "      <td>1</td>\n",
              "      <td>건조</td>\n",
              "      <td>횡단중</td>\n",
              "      <td>차대사람</td>\n",
              "      <td>0.509706</td>\n",
              "      <td>0.188595</td>\n",
              "    </tr>\n",
              "    <tr>\n",
              "      <th>2719</th>\n",
              "      <td>2021-12-29 11:00:00</td>\n",
              "      <td>0</td>\n",
              "      <td>0</td>\n",
              "      <td>단일로 - 기타</td>\n",
              "      <td>승용</td>\n",
              "      <td>여</td>\n",
              "      <td>21</td>\n",
              "      <td>제주</td>\n",
              "      <td>제주시</td>\n",
              "      <td>5.4</td>\n",
              "      <td>1</td>\n",
              "      <td>0</td>\n",
              "      <td>건조</td>\n",
              "      <td>횡단중</td>\n",
              "      <td>차대사람</td>\n",
              "      <td>0.381653</td>\n",
              "      <td>0.061662</td>\n",
              "    </tr>\n",
              "    <tr>\n",
              "      <th>2720</th>\n",
              "      <td>2021-12-29 14:00:00</td>\n",
              "      <td>0</td>\n",
              "      <td>0</td>\n",
              "      <td>단일로 - 기타</td>\n",
              "      <td>승용</td>\n",
              "      <td>여</td>\n",
              "      <td>22</td>\n",
              "      <td>제주</td>\n",
              "      <td>한림읍</td>\n",
              "      <td>5.7</td>\n",
              "      <td>1</td>\n",
              "      <td>0</td>\n",
              "      <td>건조</td>\n",
              "      <td>측면충돌</td>\n",
              "      <td>차대차</td>\n",
              "      <td>0.345769</td>\n",
              "      <td>-0.015916</td>\n",
              "    </tr>\n",
              "    <tr>\n",
              "      <th>2721</th>\n",
              "      <td>2021-12-30 12:00:00</td>\n",
              "      <td>0</td>\n",
              "      <td>0</td>\n",
              "      <td>단일로 - 기타</td>\n",
              "      <td>승용</td>\n",
              "      <td>남</td>\n",
              "      <td>22</td>\n",
              "      <td>서귀포</td>\n",
              "      <td>서귀포시</td>\n",
              "      <td>3.7</td>\n",
              "      <td>1</td>\n",
              "      <td>0</td>\n",
              "      <td>건조</td>\n",
              "      <td>기타</td>\n",
              "      <td>차대차</td>\n",
              "      <td>0.449413</td>\n",
              "      <td>0.126550</td>\n",
              "    </tr>\n",
              "    <tr>\n",
              "      <th>2722</th>\n",
              "      <td>2021-12-31 12:00:00</td>\n",
              "      <td>0</td>\n",
              "      <td>0</td>\n",
              "      <td>단일로 - 기타</td>\n",
              "      <td>승용</td>\n",
              "      <td>남</td>\n",
              "      <td>28</td>\n",
              "      <td>제주</td>\n",
              "      <td>애월읍</td>\n",
              "      <td>4.9</td>\n",
              "      <td>1</td>\n",
              "      <td>0</td>\n",
              "      <td>건조</td>\n",
              "      <td>기타</td>\n",
              "      <td>차대차</td>\n",
              "      <td>0.580504</td>\n",
              "      <td>0.196680</td>\n",
              "    </tr>\n",
              "  </tbody>\n",
              "</table>\n",
              "<p>2723 rows × 17 columns</p>\n",
              "</div>\n",
              "      <button class=\"colab-df-convert\" onclick=\"convertToInteractive('df-b9509497-1733-454a-93bd-e3fb71558049')\"\n",
              "              title=\"Convert this dataframe to an interactive table.\"\n",
              "              style=\"display:none;\">\n",
              "        \n",
              "  <svg xmlns=\"http://www.w3.org/2000/svg\" height=\"24px\"viewBox=\"0 0 24 24\"\n",
              "       width=\"24px\">\n",
              "    <path d=\"M0 0h24v24H0V0z\" fill=\"none\"/>\n",
              "    <path d=\"M18.56 5.44l.94 2.06.94-2.06 2.06-.94-2.06-.94-.94-2.06-.94 2.06-2.06.94zm-11 1L8.5 8.5l.94-2.06 2.06-.94-2.06-.94L8.5 2.5l-.94 2.06-2.06.94zm10 10l.94 2.06.94-2.06 2.06-.94-2.06-.94-.94-2.06-.94 2.06-2.06.94z\"/><path d=\"M17.41 7.96l-1.37-1.37c-.4-.4-.92-.59-1.43-.59-.52 0-1.04.2-1.43.59L10.3 9.45l-7.72 7.72c-.78.78-.78 2.05 0 2.83L4 21.41c.39.39.9.59 1.41.59.51 0 1.02-.2 1.41-.59l7.78-7.78 2.81-2.81c.8-.78.8-2.07 0-2.86zM5.41 20L4 18.59l7.72-7.72 1.47 1.35L5.41 20z\"/>\n",
              "  </svg>\n",
              "      </button>\n",
              "      \n",
              "  <style>\n",
              "    .colab-df-container {\n",
              "      display:flex;\n",
              "      flex-wrap:wrap;\n",
              "      gap: 12px;\n",
              "    }\n",
              "\n",
              "    .colab-df-convert {\n",
              "      background-color: #E8F0FE;\n",
              "      border: none;\n",
              "      border-radius: 50%;\n",
              "      cursor: pointer;\n",
              "      display: none;\n",
              "      fill: #1967D2;\n",
              "      height: 32px;\n",
              "      padding: 0 0 0 0;\n",
              "      width: 32px;\n",
              "    }\n",
              "\n",
              "    .colab-df-convert:hover {\n",
              "      background-color: #E2EBFA;\n",
              "      box-shadow: 0px 1px 2px rgba(60, 64, 67, 0.3), 0px 1px 3px 1px rgba(60, 64, 67, 0.15);\n",
              "      fill: #174EA6;\n",
              "    }\n",
              "\n",
              "    [theme=dark] .colab-df-convert {\n",
              "      background-color: #3B4455;\n",
              "      fill: #D2E3FC;\n",
              "    }\n",
              "\n",
              "    [theme=dark] .colab-df-convert:hover {\n",
              "      background-color: #434B5C;\n",
              "      box-shadow: 0px 1px 3px 1px rgba(0, 0, 0, 0.15);\n",
              "      filter: drop-shadow(0px 1px 2px rgba(0, 0, 0, 0.3));\n",
              "      fill: #FFFFFF;\n",
              "    }\n",
              "  </style>\n",
              "\n",
              "      <script>\n",
              "        const buttonEl =\n",
              "          document.querySelector('#df-b9509497-1733-454a-93bd-e3fb71558049 button.colab-df-convert');\n",
              "        buttonEl.style.display =\n",
              "          google.colab.kernel.accessAllowed ? 'block' : 'none';\n",
              "\n",
              "        async function convertToInteractive(key) {\n",
              "          const element = document.querySelector('#df-b9509497-1733-454a-93bd-e3fb71558049');\n",
              "          const dataTable =\n",
              "            await google.colab.kernel.invokeFunction('convertToInteractive',\n",
              "                                                     [key], {});\n",
              "          if (!dataTable) return;\n",
              "\n",
              "          const docLinkHtml = 'Like what you see? Visit the ' +\n",
              "            '<a target=\"_blank\" href=https://colab.research.google.com/notebooks/data_table.ipynb>data table notebook</a>'\n",
              "            + ' to learn more about interactive tables.';\n",
              "          element.innerHTML = '';\n",
              "          dataTable['output_type'] = 'display_data';\n",
              "          await google.colab.output.renderOutput(dataTable, element);\n",
              "          const docLink = document.createElement('div');\n",
              "          docLink.innerHTML = docLinkHtml;\n",
              "          element.appendChild(docLink);\n",
              "        }\n",
              "      </script>\n",
              "    </div>\n",
              "  </div>\n",
              "  "
            ]
          },
          "metadata": {},
          "execution_count": 119
        }
      ]
    },
    {
      "cell_type": "code",
      "source": [
        "df_one.pop('시')"
      ],
      "metadata": {
        "colab": {
          "base_uri": "https://localhost:8080/"
        },
        "id": "hgY7h08t06w_",
        "outputId": "353ad259-3602-4a1d-be49-d5779dd3207c"
      },
      "execution_count": null,
      "outputs": [
        {
          "output_type": "execute_result",
          "data": {
            "text/plain": [
              "0        제주\n",
              "1        제주\n",
              "2       서귀포\n",
              "3       서귀포\n",
              "4       서귀포\n",
              "       ... \n",
              "2718     제주\n",
              "2719     제주\n",
              "2720     제주\n",
              "2721    서귀포\n",
              "2722     제주\n",
              "Name: 시, Length: 2723, dtype: object"
            ]
          },
          "metadata": {},
          "execution_count": 120
        }
      ]
    },
    {
      "cell_type": "code",
      "source": [
        "df_one.pop('가해운전자 상해정도')\n",
        "df_one.pop('사고유형')"
      ],
      "metadata": {
        "id": "BLgCWWTTt5vd"
      },
      "execution_count": null,
      "outputs": []
    },
    {
      "cell_type": "code",
      "source": [
        "df_one.to_csv('/content/drive/MyDrive/cj E2-3/data/최종데이터.csv')"
      ],
      "metadata": {
        "id": "bmunYjzEubLU"
      },
      "execution_count": null,
      "outputs": []
    },
    {
      "cell_type": "code",
      "source": [
        "import plotly.express as px\n",
        "\n",
        "fig = px.line(x=['a','b','c'], y=[1,3,2], title='sample figure')\n",
        "fig.show()"
      ],
      "metadata": {
        "id": "Wb80KCjWubGy"
      },
      "execution_count": null,
      "outputs": []
    }
  ]
}