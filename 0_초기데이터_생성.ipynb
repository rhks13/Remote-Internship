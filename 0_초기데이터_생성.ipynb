{
  "nbformat": 4,
  "nbformat_minor": 0,
  "metadata": {
    "colab": {
      "provenance": [],
      "include_colab_link": true
    },
    "kernelspec": {
      "name": "python3",
      "display_name": "Python 3"
    },
    "language_info": {
      "name": "python"
    }
  },
  "cells": [
    {
      "cell_type": "markdown",
      "metadata": {
        "id": "view-in-github",
        "colab_type": "text"
      },
      "source": [
        "<a href=\"https://colab.research.google.com/github/rhks13/Remote-Internship/blob/main/0_%EC%B4%88%EA%B8%B0%EB%8D%B0%EC%9D%B4%ED%84%B0_%EC%83%9D%EC%84%B1.ipynb\" target=\"_parent\"><img src=\"https://colab.research.google.com/assets/colab-badge.svg\" alt=\"Open In Colab\"/></a>"
      ]
    },
    {
      "cell_type": "code",
      "execution_count": null,
      "metadata": {
        "id": "MaQp5dw9n2yW"
      },
      "outputs": [],
      "source": [
        "import pandas as pd\n",
        "import numpy as np\n",
        "import openpyxl\n",
        "import matplotlib.pyplot as plt\n",
        "import seaborn as sns\n",
        "\n",
        "from matplotlib import font_manager, rc\n",
        "font_path = \"C:/Windows/Fonts/NGULIM.TTF\"\n",
        "font = font_manager.FontProperties(fname=font_path).get_name()\n",
        "rc('font', family=font)\n",
        "\n",
        "xlsx17 = pd.read_excel('./1718.xlsx')\n",
        "xlsx19 = pd.read_excel('./192021.xlsx')\n",
        "merge = pd.DataFrame()\n",
        "merge = merge.append(xlsx17)\n",
        "merge = merge.append(xlsx19)"
      ]
    },
    {
      "cell_type": "code",
      "source": [
        "# 입력이 잘 되었는지 확인하기 위한 코드\n",
        "print(xlsx.head())\n",
        "print()\n",
        "print(xlsx.shape)\n",
        "print()\n",
        "print(xlsx.info())\n",
        "print(xlsx.isnull().sum())"
      ],
      "metadata": {
        "id": "GcOMnRhvoHP5"
      },
      "execution_count": null,
      "outputs": []
    },
    {
      "cell_type": "code",
      "source": [
        "# 특정 열의 빈도수 확인(그래프)를 위한 코드\n",
        "merge['사고내용'].value_counts().plot(kind='bar')\n",
        "plt.show()\n",
        "merge['가해운전자 나이대'].value_counts().plot(kind='bar')\n",
        "plt.show()\n",
        "merge['사고유형'].value_counts().plot(kind='bar')\n",
        "plt.show()"
      ],
      "metadata": {
        "id": "gAYgazhYoK9B"
      },
      "execution_count": null,
      "outputs": []
    },
    {
      "cell_type": "code",
      "source": [
        "#부상자 중 사망자, 중상자 비율을 확인을 위한 코드\n",
        "injury = []\n",
        "for i in range(4):\n",
        "    injury.append(merge['사고내용'].value_counts()[i])\n",
        "print(injury)\n",
        "injury2 = injury[2] + injury[3]\n",
        "print(injury2 / sum(injury) * 100)"
      ],
      "metadata": {
        "id": "ZXAcq7twoNLg"
      },
      "execution_count": null,
      "outputs": []
    },
    {
      "cell_type": "code",
      "source": [
        "#필요한 카테고리만을 선정\n",
        "category = [col for col in merge.columns]\n",
        "\n",
        "category = list(set(category) - set(['피해운전자 차종', '가해운전자 차종',\n",
        "                                     '피해운전자 성별', '피해운전자 연령',\n",
        "                                     '피해운전자 상해정도', '가해운전자 상해정도',\n",
        "                                     '가해운전자 연령', '가해운전자 나이',\n",
        "                                     '사고일시', '사고번호',\n",
        "                                     '부상신고자수', '사망자수', '중상자수', '경상자수']))\n",
        "print(category)"
      ],
      "metadata": {
        "id": "5v4pZYGpoNSw"
      },
      "execution_count": null,
      "outputs": []
    },
    {
      "cell_type": "code",
      "source": [
        "#필요 카테고리별 빈도수 그래프\n",
        "for col in category:\n",
        "    merge[col].value_counts().plot(kind='bar')\n",
        "    plt.title(col)\n",
        "    plt.show()"
      ],
      "metadata": {
        "id": "ciBcX8dZoNZM"
      },
      "execution_count": null,
      "outputs": []
    },
    {
      "cell_type": "code",
      "source": [
        "#나이대와 사고내용 그래프\n",
        "age_df = merge.groupby(['가해운전자 나이대', '사고내용'])['사고내용'].count().unstack('사고내용')\n",
        "age_df.plot(kind='bar', figsize=(10, 5))\n",
        "plt.title('나이대')\n",
        "plt.show()"
      ],
      "metadata": {
        "id": "yj_4p0HUoVR4"
      },
      "execution_count": null,
      "outputs": []
    }
  ]
}